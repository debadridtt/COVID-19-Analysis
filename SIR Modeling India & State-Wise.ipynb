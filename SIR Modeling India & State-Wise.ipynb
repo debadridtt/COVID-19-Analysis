{
 "cells": [
  {
   "cell_type": "code",
   "execution_count": 1,
   "metadata": {
    "ExecuteTime": {
     "end_time": "2020-04-16T20:16:32.953523Z",
     "start_time": "2020-04-16T20:16:30.998743Z"
    }
   },
   "outputs": [],
   "source": [
    "import pandas as pd\n",
    "import numpy as np\n",
    "from scipy.integrate import solve_ivp\n",
    "from scipy.optimize import minimize\n",
    "from scipy.integrate import odeint\n",
    "import matplotlib.pyplot as plt\n",
    "%matplotlib inline\n",
    "import warnings\n",
    "warnings.filterwarnings('ignore')"
   ]
  },
  {
   "cell_type": "code",
   "execution_count": 2,
   "metadata": {
    "ExecuteTime": {
     "end_time": "2020-04-16T20:16:36.217791Z",
     "start_time": "2020-04-16T20:16:32.956512Z"
    }
   },
   "outputs": [
    {
     "data": {
      "text/html": [
       "<div>\n",
       "<style scoped>\n",
       "    .dataframe tbody tr th:only-of-type {\n",
       "        vertical-align: middle;\n",
       "    }\n",
       "\n",
       "    .dataframe tbody tr th {\n",
       "        vertical-align: top;\n",
       "    }\n",
       "\n",
       "    .dataframe thead th {\n",
       "        text-align: right;\n",
       "    }\n",
       "</style>\n",
       "<table border=\"1\" class=\"dataframe\">\n",
       "  <thead>\n",
       "    <tr style=\"text-align: right;\">\n",
       "      <th></th>\n",
       "      <th>Patient Number</th>\n",
       "      <th>State Patient Number</th>\n",
       "      <th>Date Announced</th>\n",
       "      <th>Age Bracket</th>\n",
       "      <th>Gender</th>\n",
       "      <th>Detected City</th>\n",
       "      <th>Detected District</th>\n",
       "      <th>Detected State</th>\n",
       "      <th>State code</th>\n",
       "      <th>Current Status</th>\n",
       "      <th>Notes</th>\n",
       "      <th>Contracted from which Patient (Suspected)</th>\n",
       "      <th>Nationality</th>\n",
       "      <th>Type of transmission</th>\n",
       "      <th>Status Change Date</th>\n",
       "      <th>Source_1</th>\n",
       "      <th>Source_2</th>\n",
       "      <th>Source_3</th>\n",
       "      <th>Backup Notes</th>\n",
       "    </tr>\n",
       "  </thead>\n",
       "  <tbody>\n",
       "    <tr>\n",
       "      <th>0</th>\n",
       "      <td>1900-01-01 00:00:00</td>\n",
       "      <td>KL-TS-P1</td>\n",
       "      <td>2020-01-30</td>\n",
       "      <td>20</td>\n",
       "      <td>F</td>\n",
       "      <td>Thrissur</td>\n",
       "      <td>Thrissur</td>\n",
       "      <td>Kerala</td>\n",
       "      <td>KL</td>\n",
       "      <td>Recovered</td>\n",
       "      <td>Travelled from Wuhan</td>\n",
       "      <td>NaN</td>\n",
       "      <td>India</td>\n",
       "      <td>Imported</td>\n",
       "      <td>2020-02-14</td>\n",
       "      <td>https://twitter.com/vijayanpinarayi/status/122...</td>\n",
       "      <td>https://weather.com/en-IN/india/news/news/2020...</td>\n",
       "      <td>NaN</td>\n",
       "      <td>Student from Wuhan</td>\n",
       "    </tr>\n",
       "    <tr>\n",
       "      <th>1</th>\n",
       "      <td>1900-01-02 00:00:00</td>\n",
       "      <td>KL-AL-P1</td>\n",
       "      <td>2020-02-02</td>\n",
       "      <td>NaN</td>\n",
       "      <td>NaN</td>\n",
       "      <td>Alappuzha</td>\n",
       "      <td>Alappuzha</td>\n",
       "      <td>Kerala</td>\n",
       "      <td>KL</td>\n",
       "      <td>Recovered</td>\n",
       "      <td>Travelled from Wuhan</td>\n",
       "      <td>NaN</td>\n",
       "      <td>India</td>\n",
       "      <td>Imported</td>\n",
       "      <td>2020-02-14</td>\n",
       "      <td>https://www.indiatoday.in/india/story/kerala-r...</td>\n",
       "      <td>https://weather.com/en-IN/india/news/news/2020...</td>\n",
       "      <td>NaN</td>\n",
       "      <td>Student from Wuhan</td>\n",
       "    </tr>\n",
       "  </tbody>\n",
       "</table>\n",
       "</div>"
      ],
      "text/plain": [
       "        Patient Number State Patient Number Date Announced Age Bracket Gender  \\\n",
       "0  1900-01-01 00:00:00             KL-TS-P1     2020-01-30          20      F   \n",
       "1  1900-01-02 00:00:00             KL-AL-P1     2020-02-02         NaN    NaN   \n",
       "\n",
       "  Detected City Detected District Detected State State code Current Status  \\\n",
       "0      Thrissur          Thrissur         Kerala         KL      Recovered   \n",
       "1     Alappuzha         Alappuzha         Kerala         KL      Recovered   \n",
       "\n",
       "                  Notes Contracted from which Patient (Suspected) Nationality  \\\n",
       "0  Travelled from Wuhan                                       NaN       India   \n",
       "1  Travelled from Wuhan                                       NaN       India   \n",
       "\n",
       "  Type of transmission Status Change Date  \\\n",
       "0             Imported         2020-02-14   \n",
       "1             Imported         2020-02-14   \n",
       "\n",
       "                                            Source_1  \\\n",
       "0  https://twitter.com/vijayanpinarayi/status/122...   \n",
       "1  https://www.indiatoday.in/india/story/kerala-r...   \n",
       "\n",
       "                                            Source_2 Source_3  \\\n",
       "0  https://weather.com/en-IN/india/news/news/2020...      NaN   \n",
       "1  https://weather.com/en-IN/india/news/news/2020...      NaN   \n",
       "\n",
       "         Backup Notes  \n",
       "0  Student from Wuhan  \n",
       "1  Student from Wuhan  "
      ]
     },
     "execution_count": 2,
     "metadata": {},
     "output_type": "execute_result"
    }
   ],
   "source": [
    "df_ind_main = pd.read_excel('COVID19 India Complete Dataset April 2020.xlsx', sheet_name='Raw Data')\n",
    "df_ind_main.head(2)"
   ]
  },
  {
   "cell_type": "code",
   "execution_count": 3,
   "metadata": {
    "ExecuteTime": {
     "end_time": "2020-04-16T20:16:36.325536Z",
     "start_time": "2020-04-16T20:16:36.221800Z"
    }
   },
   "outputs": [
    {
     "data": {
      "text/html": [
       "<div>\n",
       "<style scoped>\n",
       "    .dataframe tbody tr th:only-of-type {\n",
       "        vertical-align: middle;\n",
       "    }\n",
       "\n",
       "    .dataframe tbody tr th {\n",
       "        vertical-align: top;\n",
       "    }\n",
       "\n",
       "    .dataframe thead th {\n",
       "        text-align: right;\n",
       "    }\n",
       "</style>\n",
       "<table border=\"1\" class=\"dataframe\">\n",
       "  <thead>\n",
       "    <tr style=\"text-align: right;\">\n",
       "      <th></th>\n",
       "      <th>Patient Number</th>\n",
       "      <th>State Patient Number</th>\n",
       "      <th>Date Announced</th>\n",
       "      <th>Age Bracket</th>\n",
       "      <th>Gender</th>\n",
       "      <th>Detected City</th>\n",
       "      <th>Detected District</th>\n",
       "      <th>Detected State</th>\n",
       "      <th>State code</th>\n",
       "      <th>Current Status</th>\n",
       "      <th>Notes</th>\n",
       "      <th>Contracted from which Patient (Suspected)</th>\n",
       "      <th>Nationality</th>\n",
       "      <th>Type of transmission</th>\n",
       "      <th>Status Change Date</th>\n",
       "      <th>Source_1</th>\n",
       "      <th>Source_2</th>\n",
       "      <th>Source_3</th>\n",
       "      <th>Backup Notes</th>\n",
       "    </tr>\n",
       "  </thead>\n",
       "  <tbody>\n",
       "    <tr>\n",
       "      <th>0</th>\n",
       "      <td>1900-01-01 00:00:00</td>\n",
       "      <td>KL-TS-P1</td>\n",
       "      <td>2020-01-30</td>\n",
       "      <td>20</td>\n",
       "      <td>F</td>\n",
       "      <td>Thrissur</td>\n",
       "      <td>Thrissur</td>\n",
       "      <td>Kerala</td>\n",
       "      <td>KL</td>\n",
       "      <td>Recovered</td>\n",
       "      <td>Travelled from Wuhan</td>\n",
       "      <td>NaN</td>\n",
       "      <td>India</td>\n",
       "      <td>Imported</td>\n",
       "      <td>2020-02-14</td>\n",
       "      <td>https://twitter.com/vijayanpinarayi/status/122...</td>\n",
       "      <td>https://weather.com/en-IN/india/news/news/2020...</td>\n",
       "      <td>NaN</td>\n",
       "      <td>Student from Wuhan</td>\n",
       "    </tr>\n",
       "    <tr>\n",
       "      <th>1</th>\n",
       "      <td>1900-01-02 00:00:00</td>\n",
       "      <td>KL-AL-P1</td>\n",
       "      <td>2020-02-02</td>\n",
       "      <td>NaN</td>\n",
       "      <td>NaN</td>\n",
       "      <td>Alappuzha</td>\n",
       "      <td>Alappuzha</td>\n",
       "      <td>Kerala</td>\n",
       "      <td>KL</td>\n",
       "      <td>Recovered</td>\n",
       "      <td>Travelled from Wuhan</td>\n",
       "      <td>NaN</td>\n",
       "      <td>India</td>\n",
       "      <td>Imported</td>\n",
       "      <td>2020-02-14</td>\n",
       "      <td>https://www.indiatoday.in/india/story/kerala-r...</td>\n",
       "      <td>https://weather.com/en-IN/india/news/news/2020...</td>\n",
       "      <td>NaN</td>\n",
       "      <td>Student from Wuhan</td>\n",
       "    </tr>\n",
       "  </tbody>\n",
       "</table>\n",
       "</div>"
      ],
      "text/plain": [
       "        Patient Number State Patient Number Date Announced Age Bracket Gender  \\\n",
       "0  1900-01-01 00:00:00             KL-TS-P1     2020-01-30          20      F   \n",
       "1  1900-01-02 00:00:00             KL-AL-P1     2020-02-02         NaN    NaN   \n",
       "\n",
       "  Detected City Detected District Detected State State code Current Status  \\\n",
       "0      Thrissur          Thrissur         Kerala         KL      Recovered   \n",
       "1     Alappuzha         Alappuzha         Kerala         KL      Recovered   \n",
       "\n",
       "                  Notes Contracted from which Patient (Suspected) Nationality  \\\n",
       "0  Travelled from Wuhan                                       NaN       India   \n",
       "1  Travelled from Wuhan                                       NaN       India   \n",
       "\n",
       "  Type of transmission Status Change Date  \\\n",
       "0             Imported         2020-02-14   \n",
       "1             Imported         2020-02-14   \n",
       "\n",
       "                                            Source_1  \\\n",
       "0  https://twitter.com/vijayanpinarayi/status/122...   \n",
       "1  https://www.indiatoday.in/india/story/kerala-r...   \n",
       "\n",
       "                                            Source_2 Source_3  \\\n",
       "0  https://weather.com/en-IN/india/news/news/2020...      NaN   \n",
       "1  https://weather.com/en-IN/india/news/news/2020...      NaN   \n",
       "\n",
       "         Backup Notes  \n",
       "0  Student from Wuhan  \n",
       "1  Student from Wuhan  "
      ]
     },
     "execution_count": 3,
     "metadata": {},
     "output_type": "execute_result"
    }
   ],
   "source": [
    "df_ind_main = df_ind_main.dropna(subset=['Date Announced'])\n",
    "df_ind_main.reset_index(drop=True)\n",
    "df_ind_main = df_ind_main.drop_duplicates(subset=df_ind_main.drop('Patient Number', axis=1).columns)\n",
    "df_ind_main.reset_index(drop=True)\n",
    "df_ind_main.head(2)"
   ]
  },
  {
   "cell_type": "code",
   "execution_count": 4,
   "metadata": {
    "ExecuteTime": {
     "end_time": "2020-04-16T20:16:38.362058Z",
     "start_time": "2020-04-16T20:16:36.329500Z"
    }
   },
   "outputs": [
    {
     "data": {
      "text/html": [
       "<div>\n",
       "<style scoped>\n",
       "    .dataframe tbody tr th:only-of-type {\n",
       "        vertical-align: middle;\n",
       "    }\n",
       "\n",
       "    .dataframe tbody tr th {\n",
       "        vertical-align: top;\n",
       "    }\n",
       "\n",
       "    .dataframe thead th {\n",
       "        text-align: right;\n",
       "    }\n",
       "</style>\n",
       "<table border=\"1\" class=\"dataframe\">\n",
       "  <thead>\n",
       "    <tr style=\"text-align: right;\">\n",
       "      <th></th>\n",
       "      <th>Date</th>\n",
       "      <th>Daily Confirmed</th>\n",
       "      <th>Total Confirmed</th>\n",
       "      <th>Daily Recovered</th>\n",
       "      <th>Total Recovered</th>\n",
       "      <th>Daily Deceased</th>\n",
       "      <th>Total Deceased</th>\n",
       "    </tr>\n",
       "  </thead>\n",
       "  <tbody>\n",
       "    <tr>\n",
       "      <th>0</th>\n",
       "      <td>2020-01-30</td>\n",
       "      <td>1</td>\n",
       "      <td>1</td>\n",
       "      <td>0</td>\n",
       "      <td>0</td>\n",
       "      <td>0</td>\n",
       "      <td>0</td>\n",
       "    </tr>\n",
       "    <tr>\n",
       "      <th>1</th>\n",
       "      <td>2020-01-31</td>\n",
       "      <td>0</td>\n",
       "      <td>1</td>\n",
       "      <td>0</td>\n",
       "      <td>0</td>\n",
       "      <td>0</td>\n",
       "      <td>0</td>\n",
       "    </tr>\n",
       "  </tbody>\n",
       "</table>\n",
       "</div>"
      ],
      "text/plain": [
       "        Date  Daily Confirmed  Total Confirmed  Daily Recovered  \\\n",
       "0 2020-01-30                1                1                0   \n",
       "1 2020-01-31                0                1                0   \n",
       "\n",
       "   Total Recovered  Daily Deceased  Total Deceased  \n",
       "0                0               0               0  \n",
       "1                0               0               0  "
      ]
     },
     "execution_count": 4,
     "metadata": {},
     "output_type": "execute_result"
    }
   ],
   "source": [
    "dbd_tc_india = pd.read_excel('COVID19 India Complete Dataset April 2020.xlsx', sheet_name='Daily Cases Time-Series')\n",
    "dbd_tc_india.head(2)"
   ]
  },
  {
   "cell_type": "code",
   "execution_count": 5,
   "metadata": {
    "ExecuteTime": {
     "end_time": "2020-04-16T20:16:38.393991Z",
     "start_time": "2020-04-16T20:16:38.367044Z"
    }
   },
   "outputs": [
    {
     "data": {
      "text/html": [
       "<div>\n",
       "<style scoped>\n",
       "    .dataframe tbody tr th:only-of-type {\n",
       "        vertical-align: middle;\n",
       "    }\n",
       "\n",
       "    .dataframe tbody tr th {\n",
       "        vertical-align: top;\n",
       "    }\n",
       "\n",
       "    .dataframe thead th {\n",
       "        text-align: right;\n",
       "    }\n",
       "</style>\n",
       "<table border=\"1\" class=\"dataframe\">\n",
       "  <thead>\n",
       "    <tr style=\"text-align: right;\">\n",
       "      <th></th>\n",
       "      <th>Date</th>\n",
       "      <th>Total Confirmed</th>\n",
       "    </tr>\n",
       "  </thead>\n",
       "  <tbody>\n",
       "    <tr>\n",
       "      <th>0</th>\n",
       "      <td>2020-01-30</td>\n",
       "      <td>1</td>\n",
       "    </tr>\n",
       "    <tr>\n",
       "      <th>1</th>\n",
       "      <td>2020-01-31</td>\n",
       "      <td>1</td>\n",
       "    </tr>\n",
       "    <tr>\n",
       "      <th>2</th>\n",
       "      <td>2020-02-01</td>\n",
       "      <td>1</td>\n",
       "    </tr>\n",
       "  </tbody>\n",
       "</table>\n",
       "</div>"
      ],
      "text/plain": [
       "        Date  Total Confirmed\n",
       "0 2020-01-30                1\n",
       "1 2020-01-31                1\n",
       "2 2020-02-01                1"
      ]
     },
     "execution_count": 5,
     "metadata": {},
     "output_type": "execute_result"
    }
   ],
   "source": [
    "db_india = pd.DataFrame(dbd_tc_india.groupby(['Date'])['Total Confirmed'].sum()).reset_index()\n",
    "db_india.head(3)"
   ]
  },
  {
   "cell_type": "code",
   "execution_count": 6,
   "metadata": {
    "ExecuteTime": {
     "end_time": "2020-04-16T20:16:38.435873Z",
     "start_time": "2020-04-16T20:16:38.399956Z"
    }
   },
   "outputs": [
    {
     "data": {
      "text/html": [
       "<div>\n",
       "<style scoped>\n",
       "    .dataframe tbody tr th:only-of-type {\n",
       "        vertical-align: middle;\n",
       "    }\n",
       "\n",
       "    .dataframe tbody tr th {\n",
       "        vertical-align: top;\n",
       "    }\n",
       "\n",
       "    .dataframe thead th {\n",
       "        text-align: right;\n",
       "    }\n",
       "</style>\n",
       "<table border=\"1\" class=\"dataframe\">\n",
       "  <thead>\n",
       "    <tr style=\"text-align: right;\">\n",
       "      <th></th>\n",
       "      <th>Date</th>\n",
       "      <th>Total Confirmed</th>\n",
       "      <th>Total Recovered</th>\n",
       "      <th>Total Deceased</th>\n",
       "    </tr>\n",
       "  </thead>\n",
       "  <tbody>\n",
       "    <tr>\n",
       "      <th>0</th>\n",
       "      <td>2020-01-30</td>\n",
       "      <td>1</td>\n",
       "      <td>0</td>\n",
       "      <td>0</td>\n",
       "    </tr>\n",
       "    <tr>\n",
       "      <th>1</th>\n",
       "      <td>2020-01-31</td>\n",
       "      <td>1</td>\n",
       "      <td>0</td>\n",
       "      <td>0</td>\n",
       "    </tr>\n",
       "    <tr>\n",
       "      <th>2</th>\n",
       "      <td>2020-02-01</td>\n",
       "      <td>1</td>\n",
       "      <td>0</td>\n",
       "      <td>0</td>\n",
       "    </tr>\n",
       "  </tbody>\n",
       "</table>\n",
       "</div>"
      ],
      "text/plain": [
       "        Date  Total Confirmed  Total Recovered  Total Deceased\n",
       "0 2020-01-30                1                0               0\n",
       "1 2020-01-31                1                0               0\n",
       "2 2020-02-01                1                0               0"
      ]
     },
     "execution_count": 6,
     "metadata": {},
     "output_type": "execute_result"
    }
   ],
   "source": [
    "dbd_tc_param = pd.DataFrame(dbd_tc_india.groupby(['Date'])['Total Confirmed','Total Recovered', \\\n",
    "                                                           'Total Deceased'].sum().reset_index())\n",
    "dbd_tc_param.head(3)"
   ]
  },
  {
   "cell_type": "code",
   "execution_count": 7,
   "metadata": {
    "ExecuteTime": {
     "end_time": "2020-04-16T20:16:38.474781Z",
     "start_time": "2020-04-16T20:16:38.443842Z"
    }
   },
   "outputs": [],
   "source": [
    "dbd_tc_param['Total Active Cases'] = dbd_tc_param['Total Confirmed'] - dbd_tc_param['Total Recovered'] - \\\n",
    "                                     dbd_tc_param['Total Deceased']"
   ]
  },
  {
   "cell_type": "code",
   "execution_count": 8,
   "metadata": {
    "ExecuteTime": {
     "end_time": "2020-04-16T20:16:38.505686Z",
     "start_time": "2020-04-16T20:16:38.479749Z"
    }
   },
   "outputs": [
    {
     "data": {
      "text/html": [
       "<div>\n",
       "<style scoped>\n",
       "    .dataframe tbody tr th:only-of-type {\n",
       "        vertical-align: middle;\n",
       "    }\n",
       "\n",
       "    .dataframe tbody tr th {\n",
       "        vertical-align: top;\n",
       "    }\n",
       "\n",
       "    .dataframe thead th {\n",
       "        text-align: right;\n",
       "    }\n",
       "</style>\n",
       "<table border=\"1\" class=\"dataframe\">\n",
       "  <thead>\n",
       "    <tr style=\"text-align: right;\">\n",
       "      <th></th>\n",
       "      <th>Date</th>\n",
       "      <th>Total Confirmed</th>\n",
       "      <th>Total Recovered</th>\n",
       "      <th>Total Deceased</th>\n",
       "      <th>Total Active Cases</th>\n",
       "    </tr>\n",
       "  </thead>\n",
       "  <tbody>\n",
       "    <tr>\n",
       "      <th>0</th>\n",
       "      <td>2020-03-02</td>\n",
       "      <td>5</td>\n",
       "      <td>3</td>\n",
       "      <td>0</td>\n",
       "      <td>2</td>\n",
       "    </tr>\n",
       "    <tr>\n",
       "      <th>1</th>\n",
       "      <td>2020-03-03</td>\n",
       "      <td>6</td>\n",
       "      <td>3</td>\n",
       "      <td>0</td>\n",
       "      <td>3</td>\n",
       "    </tr>\n",
       "  </tbody>\n",
       "</table>\n",
       "</div>"
      ],
      "text/plain": [
       "        Date  Total Confirmed  Total Recovered  Total Deceased  \\\n",
       "0 2020-03-02                5                3               0   \n",
       "1 2020-03-03                6                3               0   \n",
       "\n",
       "   Total Active Cases  \n",
       "0                   2  \n",
       "1                   3  "
      ]
     },
     "execution_count": 8,
     "metadata": {},
     "output_type": "execute_result"
    }
   ],
   "source": [
    "dbd_tc_pl = dbd_tc_param[(dbd_tc_param['Date']>'2020-03-01') & (dbd_tc_param['Date']<'2020-03-27')].reset_index(drop=True) # considering pre lockdown period\n",
    "dbd_tc_pl.head(2)"
   ]
  },
  {
   "cell_type": "code",
   "execution_count": 9,
   "metadata": {
    "ExecuteTime": {
     "end_time": "2020-04-16T20:16:38.537604Z",
     "start_time": "2020-04-16T20:16:38.513647Z"
    }
   },
   "outputs": [
    {
     "data": {
      "text/html": [
       "<div>\n",
       "<style scoped>\n",
       "    .dataframe tbody tr th:only-of-type {\n",
       "        vertical-align: middle;\n",
       "    }\n",
       "\n",
       "    .dataframe tbody tr th {\n",
       "        vertical-align: top;\n",
       "    }\n",
       "\n",
       "    .dataframe thead th {\n",
       "        text-align: right;\n",
       "    }\n",
       "</style>\n",
       "<table border=\"1\" class=\"dataframe\">\n",
       "  <thead>\n",
       "    <tr style=\"text-align: right;\">\n",
       "      <th></th>\n",
       "      <th>Date</th>\n",
       "      <th>Total Confirmed</th>\n",
       "      <th>Total Recovered</th>\n",
       "      <th>Total Deceased</th>\n",
       "      <th>Total Active Cases</th>\n",
       "    </tr>\n",
       "  </thead>\n",
       "  <tbody>\n",
       "    <tr>\n",
       "      <th>23</th>\n",
       "      <td>2020-03-25</td>\n",
       "      <td>657</td>\n",
       "      <td>43</td>\n",
       "      <td>11</td>\n",
       "      <td>603</td>\n",
       "    </tr>\n",
       "    <tr>\n",
       "      <th>24</th>\n",
       "      <td>2020-03-26</td>\n",
       "      <td>730</td>\n",
       "      <td>50</td>\n",
       "      <td>16</td>\n",
       "      <td>664</td>\n",
       "    </tr>\n",
       "  </tbody>\n",
       "</table>\n",
       "</div>"
      ],
      "text/plain": [
       "         Date  Total Confirmed  Total Recovered  Total Deceased  \\\n",
       "23 2020-03-25              657               43              11   \n",
       "24 2020-03-26              730               50              16   \n",
       "\n",
       "    Total Active Cases  \n",
       "23                 603  \n",
       "24                 664  "
      ]
     },
     "execution_count": 9,
     "metadata": {},
     "output_type": "execute_result"
    }
   ],
   "source": [
    "dbd_tc_pl.tail(2)"
   ]
  },
  {
   "cell_type": "code",
   "execution_count": 10,
   "metadata": {
    "ExecuteTime": {
     "end_time": "2020-04-16T20:16:38.555546Z",
     "start_time": "2020-04-16T20:16:38.543600Z"
    }
   },
   "outputs": [
    {
     "data": {
      "text/plain": [
       "(25, 5)"
      ]
     },
     "execution_count": 10,
     "metadata": {},
     "output_type": "execute_result"
    }
   ],
   "source": [
    "dbd_tc_pl.shape"
   ]
  },
  {
   "cell_type": "code",
   "execution_count": 11,
   "metadata": {
    "ExecuteTime": {
     "end_time": "2020-04-16T20:16:38.578487Z",
     "start_time": "2020-04-16T20:16:38.561531Z"
    }
   },
   "outputs": [],
   "source": [
    "dbd_tc_param['Total Active Cases'] = dbd_tc_param['Total Confirmed'] - dbd_tc_param['Total Recovered'] - \\\n",
    "                                     dbd_tc_param['Total Deceased']"
   ]
  },
  {
   "cell_type": "code",
   "execution_count": 12,
   "metadata": {
    "ExecuteTime": {
     "end_time": "2020-04-16T20:16:38.613396Z",
     "start_time": "2020-04-16T20:16:38.583466Z"
    }
   },
   "outputs": [
    {
     "data": {
      "text/html": [
       "<div>\n",
       "<style scoped>\n",
       "    .dataframe tbody tr th:only-of-type {\n",
       "        vertical-align: middle;\n",
       "    }\n",
       "\n",
       "    .dataframe tbody tr th {\n",
       "        vertical-align: top;\n",
       "    }\n",
       "\n",
       "    .dataframe thead th {\n",
       "        text-align: right;\n",
       "    }\n",
       "</style>\n",
       "<table border=\"1\" class=\"dataframe\">\n",
       "  <thead>\n",
       "    <tr style=\"text-align: right;\">\n",
       "      <th></th>\n",
       "      <th>Date</th>\n",
       "      <th>Total Confirmed</th>\n",
       "      <th>Total Recovered</th>\n",
       "      <th>Total Deceased</th>\n",
       "      <th>Total Active Cases</th>\n",
       "    </tr>\n",
       "  </thead>\n",
       "  <tbody>\n",
       "    <tr>\n",
       "      <th>0</th>\n",
       "      <td>2020-03-27</td>\n",
       "      <td>883</td>\n",
       "      <td>75</td>\n",
       "      <td>19</td>\n",
       "      <td>789</td>\n",
       "    </tr>\n",
       "    <tr>\n",
       "      <th>1</th>\n",
       "      <td>2020-03-28</td>\n",
       "      <td>1019</td>\n",
       "      <td>85</td>\n",
       "      <td>24</td>\n",
       "      <td>910</td>\n",
       "    </tr>\n",
       "  </tbody>\n",
       "</table>\n",
       "</div>"
      ],
      "text/plain": [
       "        Date  Total Confirmed  Total Recovered  Total Deceased  \\\n",
       "0 2020-03-27              883               75              19   \n",
       "1 2020-03-28             1019               85              24   \n",
       "\n",
       "   Total Active Cases  \n",
       "0                 789  \n",
       "1                 910  "
      ]
     },
     "execution_count": 12,
     "metadata": {},
     "output_type": "execute_result"
    }
   ],
   "source": [
    "dbd_tc_param = dbd_tc_param[dbd_tc_param['Date']>='2020-03-27'].reset_index(drop=True) # considering from lockdown date\n",
    "dbd_tc_param.head(2)"
   ]
  },
  {
   "cell_type": "code",
   "execution_count": 13,
   "metadata": {
    "ExecuteTime": {
     "end_time": "2020-04-16T20:16:38.642316Z",
     "start_time": "2020-04-16T20:16:38.619378Z"
    }
   },
   "outputs": [
    {
     "data": {
      "text/html": [
       "<div>\n",
       "<style scoped>\n",
       "    .dataframe tbody tr th:only-of-type {\n",
       "        vertical-align: middle;\n",
       "    }\n",
       "\n",
       "    .dataframe tbody tr th {\n",
       "        vertical-align: top;\n",
       "    }\n",
       "\n",
       "    .dataframe thead th {\n",
       "        text-align: right;\n",
       "    }\n",
       "</style>\n",
       "<table border=\"1\" class=\"dataframe\">\n",
       "  <thead>\n",
       "    <tr style=\"text-align: right;\">\n",
       "      <th></th>\n",
       "      <th>Date</th>\n",
       "      <th>Total Confirmed</th>\n",
       "      <th>Total Recovered</th>\n",
       "      <th>Total Deceased</th>\n",
       "      <th>Total Active Cases</th>\n",
       "    </tr>\n",
       "  </thead>\n",
       "  <tbody>\n",
       "    <tr>\n",
       "      <th>18</th>\n",
       "      <td>2020-04-14</td>\n",
       "      <td>11490</td>\n",
       "      <td>1365</td>\n",
       "      <td>398</td>\n",
       "      <td>9727</td>\n",
       "    </tr>\n",
       "    <tr>\n",
       "      <th>19</th>\n",
       "      <td>2020-04-15</td>\n",
       "      <td>12322</td>\n",
       "      <td>1498</td>\n",
       "      <td>423</td>\n",
       "      <td>10401</td>\n",
       "    </tr>\n",
       "  </tbody>\n",
       "</table>\n",
       "</div>"
      ],
      "text/plain": [
       "         Date  Total Confirmed  Total Recovered  Total Deceased  \\\n",
       "18 2020-04-14            11490             1365             398   \n",
       "19 2020-04-15            12322             1498             423   \n",
       "\n",
       "    Total Active Cases  \n",
       "18                9727  \n",
       "19               10401  "
      ]
     },
     "execution_count": 13,
     "metadata": {},
     "output_type": "execute_result"
    }
   ],
   "source": [
    "dbd_tc_param.tail(2)"
   ]
  },
  {
   "cell_type": "code",
   "execution_count": 14,
   "metadata": {
    "ExecuteTime": {
     "end_time": "2020-04-16T20:16:38.664252Z",
     "start_time": "2020-04-16T20:16:38.648298Z"
    }
   },
   "outputs": [
    {
     "data": {
      "text/plain": [
       "(20, 5)"
      ]
     },
     "execution_count": 14,
     "metadata": {},
     "output_type": "execute_result"
    }
   ],
   "source": [
    "dbd_tc_param.shape"
   ]
  },
  {
   "cell_type": "code",
   "execution_count": 15,
   "metadata": {
    "ExecuteTime": {
     "end_time": "2020-04-16T20:16:38.709134Z",
     "start_time": "2020-04-16T20:16:38.669235Z"
    }
   },
   "outputs": [
    {
     "data": {
      "text/html": [
       "<div>\n",
       "<style scoped>\n",
       "    .dataframe tbody tr th:only-of-type {\n",
       "        vertical-align: middle;\n",
       "    }\n",
       "\n",
       "    .dataframe tbody tr th {\n",
       "        vertical-align: top;\n",
       "    }\n",
       "\n",
       "    .dataframe thead th {\n",
       "        text-align: right;\n",
       "    }\n",
       "</style>\n",
       "<table border=\"1\" class=\"dataframe\">\n",
       "  <thead>\n",
       "    <tr style=\"text-align: right;\">\n",
       "      <th></th>\n",
       "      <th>Patient Number</th>\n",
       "      <th>State Patient Number</th>\n",
       "      <th>Date Announced</th>\n",
       "      <th>Age Bracket</th>\n",
       "      <th>Gender</th>\n",
       "      <th>Detected City</th>\n",
       "      <th>Detected District</th>\n",
       "      <th>Detected State</th>\n",
       "      <th>State code</th>\n",
       "      <th>Current Status</th>\n",
       "      <th>Notes</th>\n",
       "      <th>Contracted from which Patient (Suspected)</th>\n",
       "      <th>Nationality</th>\n",
       "      <th>Type of transmission</th>\n",
       "      <th>Status Change Date</th>\n",
       "      <th>Source_1</th>\n",
       "      <th>Source_2</th>\n",
       "      <th>Source_3</th>\n",
       "      <th>Backup Notes</th>\n",
       "    </tr>\n",
       "  </thead>\n",
       "  <tbody>\n",
       "    <tr>\n",
       "      <th>0</th>\n",
       "      <td>1900-01-01 00:00:00</td>\n",
       "      <td>KL-TS-P1</td>\n",
       "      <td>2020-01-30</td>\n",
       "      <td>20</td>\n",
       "      <td>F</td>\n",
       "      <td>Thrissur</td>\n",
       "      <td>Thrissur</td>\n",
       "      <td>Kerala</td>\n",
       "      <td>KL</td>\n",
       "      <td>Recovered</td>\n",
       "      <td>Travelled from Wuhan</td>\n",
       "      <td>NaN</td>\n",
       "      <td>India</td>\n",
       "      <td>Imported</td>\n",
       "      <td>2020-02-14</td>\n",
       "      <td>https://twitter.com/vijayanpinarayi/status/122...</td>\n",
       "      <td>https://weather.com/en-IN/india/news/news/2020...</td>\n",
       "      <td>NaN</td>\n",
       "      <td>Student from Wuhan</td>\n",
       "    </tr>\n",
       "    <tr>\n",
       "      <th>1</th>\n",
       "      <td>1900-01-02 00:00:00</td>\n",
       "      <td>KL-AL-P1</td>\n",
       "      <td>2020-02-02</td>\n",
       "      <td>NaN</td>\n",
       "      <td>NaN</td>\n",
       "      <td>Alappuzha</td>\n",
       "      <td>Alappuzha</td>\n",
       "      <td>Kerala</td>\n",
       "      <td>KL</td>\n",
       "      <td>Recovered</td>\n",
       "      <td>Travelled from Wuhan</td>\n",
       "      <td>NaN</td>\n",
       "      <td>India</td>\n",
       "      <td>Imported</td>\n",
       "      <td>2020-02-14</td>\n",
       "      <td>https://www.indiatoday.in/india/story/kerala-r...</td>\n",
       "      <td>https://weather.com/en-IN/india/news/news/2020...</td>\n",
       "      <td>NaN</td>\n",
       "      <td>Student from Wuhan</td>\n",
       "    </tr>\n",
       "    <tr>\n",
       "      <th>2</th>\n",
       "      <td>1900-01-03 00:00:00</td>\n",
       "      <td>KL-KS-P1</td>\n",
       "      <td>2020-02-03</td>\n",
       "      <td>NaN</td>\n",
       "      <td>NaN</td>\n",
       "      <td>Kasaragod</td>\n",
       "      <td>Kasaragod</td>\n",
       "      <td>Kerala</td>\n",
       "      <td>KL</td>\n",
       "      <td>Recovered</td>\n",
       "      <td>Travelled from Wuhan</td>\n",
       "      <td>NaN</td>\n",
       "      <td>India</td>\n",
       "      <td>Imported</td>\n",
       "      <td>2020-02-14</td>\n",
       "      <td>https://www.indiatoday.in/india/story/kerala-n...</td>\n",
       "      <td>https://twitter.com/ANI/status/122422148580539...</td>\n",
       "      <td>https://weather.com/en-IN/india/news/news/2020...</td>\n",
       "      <td>Student from Wuhan</td>\n",
       "    </tr>\n",
       "  </tbody>\n",
       "</table>\n",
       "</div>"
      ],
      "text/plain": [
       "        Patient Number State Patient Number Date Announced Age Bracket Gender  \\\n",
       "0  1900-01-01 00:00:00             KL-TS-P1     2020-01-30          20      F   \n",
       "1  1900-01-02 00:00:00             KL-AL-P1     2020-02-02         NaN    NaN   \n",
       "2  1900-01-03 00:00:00             KL-KS-P1     2020-02-03         NaN    NaN   \n",
       "\n",
       "  Detected City Detected District Detected State State code Current Status  \\\n",
       "0      Thrissur          Thrissur         Kerala         KL      Recovered   \n",
       "1     Alappuzha         Alappuzha         Kerala         KL      Recovered   \n",
       "2     Kasaragod         Kasaragod         Kerala         KL      Recovered   \n",
       "\n",
       "                  Notes Contracted from which Patient (Suspected) Nationality  \\\n",
       "0  Travelled from Wuhan                                       NaN       India   \n",
       "1  Travelled from Wuhan                                       NaN       India   \n",
       "2  Travelled from Wuhan                                       NaN       India   \n",
       "\n",
       "  Type of transmission Status Change Date  \\\n",
       "0             Imported         2020-02-14   \n",
       "1             Imported         2020-02-14   \n",
       "2             Imported         2020-02-14   \n",
       "\n",
       "                                            Source_1  \\\n",
       "0  https://twitter.com/vijayanpinarayi/status/122...   \n",
       "1  https://www.indiatoday.in/india/story/kerala-r...   \n",
       "2  https://www.indiatoday.in/india/story/kerala-n...   \n",
       "\n",
       "                                            Source_2  \\\n",
       "0  https://weather.com/en-IN/india/news/news/2020...   \n",
       "1  https://weather.com/en-IN/india/news/news/2020...   \n",
       "2  https://twitter.com/ANI/status/122422148580539...   \n",
       "\n",
       "                                            Source_3        Backup Notes  \n",
       "0                                                NaN  Student from Wuhan  \n",
       "1                                                NaN  Student from Wuhan  \n",
       "2  https://weather.com/en-IN/india/news/news/2020...  Student from Wuhan  "
      ]
     },
     "execution_count": 15,
     "metadata": {},
     "output_type": "execute_result"
    }
   ],
   "source": [
    "df_ind_main.head(3)"
   ]
  },
  {
   "cell_type": "code",
   "execution_count": 16,
   "metadata": {
    "ExecuteTime": {
     "end_time": "2020-04-16T20:16:38.729074Z",
     "start_time": "2020-04-16T20:16:38.713117Z"
    }
   },
   "outputs": [
    {
     "data": {
      "text/html": [
       "<div>\n",
       "<style scoped>\n",
       "    .dataframe tbody tr th:only-of-type {\n",
       "        vertical-align: middle;\n",
       "    }\n",
       "\n",
       "    .dataframe tbody tr th {\n",
       "        vertical-align: top;\n",
       "    }\n",
       "\n",
       "    .dataframe thead th {\n",
       "        text-align: right;\n",
       "    }\n",
       "</style>\n",
       "<table border=\"1\" class=\"dataframe\">\n",
       "  <thead>\n",
       "    <tr style=\"text-align: right;\">\n",
       "      <th></th>\n",
       "      <th>Date</th>\n",
       "      <th>Total Confirmed</th>\n",
       "      <th>Total Recovered</th>\n",
       "      <th>Total Deceased</th>\n",
       "      <th>Total Active Cases</th>\n",
       "    </tr>\n",
       "  </thead>\n",
       "  <tbody>\n",
       "    <tr>\n",
       "      <th>0</th>\n",
       "      <td>2020-03-02</td>\n",
       "      <td>5</td>\n",
       "      <td>3</td>\n",
       "      <td>0</td>\n",
       "      <td>2</td>\n",
       "    </tr>\n",
       "    <tr>\n",
       "      <th>1</th>\n",
       "      <td>2020-03-03</td>\n",
       "      <td>6</td>\n",
       "      <td>3</td>\n",
       "      <td>0</td>\n",
       "      <td>3</td>\n",
       "    </tr>\n",
       "  </tbody>\n",
       "</table>\n",
       "</div>"
      ],
      "text/plain": [
       "        Date  Total Confirmed  Total Recovered  Total Deceased  \\\n",
       "0 2020-03-02                5                3               0   \n",
       "1 2020-03-03                6                3               0   \n",
       "\n",
       "   Total Active Cases  \n",
       "0                   2  \n",
       "1                   3  "
      ]
     },
     "execution_count": 16,
     "metadata": {},
     "output_type": "execute_result"
    }
   ],
   "source": [
    "dbd_tc_pl.head(2)"
   ]
  },
  {
   "cell_type": "code",
   "execution_count": 17,
   "metadata": {
    "ExecuteTime": {
     "end_time": "2020-04-16T20:16:38.761993Z",
     "start_time": "2020-04-16T20:16:38.732067Z"
    }
   },
   "outputs": [
    {
     "data": {
      "text/html": [
       "<div>\n",
       "<style scoped>\n",
       "    .dataframe tbody tr th:only-of-type {\n",
       "        vertical-align: middle;\n",
       "    }\n",
       "\n",
       "    .dataframe tbody tr th {\n",
       "        vertical-align: top;\n",
       "    }\n",
       "\n",
       "    .dataframe thead th {\n",
       "        text-align: right;\n",
       "    }\n",
       "</style>\n",
       "<table border=\"1\" class=\"dataframe\">\n",
       "  <thead>\n",
       "    <tr style=\"text-align: right;\">\n",
       "      <th></th>\n",
       "      <th>Date</th>\n",
       "      <th>Total Confirmed</th>\n",
       "      <th>Total Recovered</th>\n",
       "      <th>Total Deceased</th>\n",
       "      <th>Total Active Cases</th>\n",
       "    </tr>\n",
       "  </thead>\n",
       "  <tbody>\n",
       "    <tr>\n",
       "      <th>23</th>\n",
       "      <td>2020-03-25</td>\n",
       "      <td>657</td>\n",
       "      <td>43</td>\n",
       "      <td>11</td>\n",
       "      <td>603</td>\n",
       "    </tr>\n",
       "    <tr>\n",
       "      <th>24</th>\n",
       "      <td>2020-03-26</td>\n",
       "      <td>730</td>\n",
       "      <td>50</td>\n",
       "      <td>16</td>\n",
       "      <td>664</td>\n",
       "    </tr>\n",
       "  </tbody>\n",
       "</table>\n",
       "</div>"
      ],
      "text/plain": [
       "         Date  Total Confirmed  Total Recovered  Total Deceased  \\\n",
       "23 2020-03-25              657               43              11   \n",
       "24 2020-03-26              730               50              16   \n",
       "\n",
       "    Total Active Cases  \n",
       "23                 603  \n",
       "24                 664  "
      ]
     },
     "execution_count": 17,
     "metadata": {},
     "output_type": "execute_result"
    }
   ],
   "source": [
    "dbd_tc_pl.tail(2)"
   ]
  },
  {
   "cell_type": "markdown",
   "metadata": {},
   "source": [
    "## Whole India Covid Scenarios during Pre-Lockdown and Lockdown"
   ]
  },
  {
   "cell_type": "markdown",
   "metadata": {},
   "source": [
    "### Pre-Lockdown Period"
   ]
  },
  {
   "cell_type": "code",
   "execution_count": 18,
   "metadata": {
    "ExecuteTime": {
     "end_time": "2020-04-16T20:16:38.778943Z",
     "start_time": "2020-04-16T20:16:38.766973Z"
    },
    "scrolled": true
   },
   "outputs": [],
   "source": [
    "data = dbd_tc_pl.set_index('Date')['Total Active Cases']\n",
    "infected = dbd_tc_pl.set_index('Date')['Total Confirmed']\n",
    "recovered = dbd_tc_pl.set_index('Date')['Total Recovered']"
   ]
  },
  {
   "cell_type": "code",
   "execution_count": 19,
   "metadata": {
    "ExecuteTime": {
     "end_time": "2020-04-16T20:16:38.791907Z",
     "start_time": "2020-04-16T20:16:38.783932Z"
    }
   },
   "outputs": [],
   "source": [
    "s_0 = 10000\n",
    "i_0 = 2\n",
    "r_0 = 3"
   ]
  },
  {
   "cell_type": "code",
   "execution_count": 20,
   "metadata": {
    "ExecuteTime": {
     "end_time": "2020-04-16T20:16:38.811867Z",
     "start_time": "2020-04-16T20:16:38.796899Z"
    }
   },
   "outputs": [],
   "source": [
    "def loss(point, data, recovered, s_0, i_0, r_0):\n",
    "    size = len(data)\n",
    "    beta, gamma = point\n",
    "    def SIR(t, y):\n",
    "        S = y[0]\n",
    "        I = y[1]\n",
    "        R = y[2]\n",
    "        return [-beta*S*I, beta*S*I-gamma*I, gamma*I]\n",
    "    solution = solve_ivp(SIR, [0, size], [s_0,i_0,r_0], t_eval=np.arange(0, size, 1), vectorized=True)\n",
    "    l1 = np.sqrt(np.mean((solution.y[1] - data)**2))\n",
    "    l2 = np.sqrt(np.mean((solution.y[2] - recovered)**2))\n",
    "    alpha = 0.1\n",
    "    return alpha * l1 + (1 - alpha) * l2"
   ]
  },
  {
   "cell_type": "code",
   "execution_count": 21,
   "metadata": {
    "ExecuteTime": {
     "end_time": "2020-04-16T20:16:38.826823Z",
     "start_time": "2020-04-16T20:16:38.816841Z"
    }
   },
   "outputs": [],
   "source": [
    "def predict(beta, gamma, data, recovered, s_0, i_0, r_0):\n",
    "    new_index = list(data.index.values)\n",
    "    size = len(new_index)\n",
    "    def SIR(t, y):\n",
    "        S = y[0]\n",
    "        I = y[1]\n",
    "        R = y[2]\n",
    "        return [-beta*S*I, beta*S*I-gamma*I, gamma*I]\n",
    "    extended_actual = np.concatenate((data.values, [None] * (size - len(data.values))))\n",
    "    extended_recovered = np.concatenate((recovered.values, [None] * (size - len(recovered.values))))\n",
    "    return new_index, extended_actual, extended_recovered, solve_ivp(SIR, [0, size], [s_0,i_0,r_0], t_eval=np.arange(0, size, 1))"
   ]
  },
  {
   "cell_type": "code",
   "execution_count": 22,
   "metadata": {
    "ExecuteTime": {
     "end_time": "2020-04-16T20:16:38.843780Z",
     "start_time": "2020-04-16T20:16:38.831799Z"
    }
   },
   "outputs": [],
   "source": [
    "def train(recovered, infected, data):\n",
    "    recovered = recovered\n",
    "    infected = infected\n",
    "    data = data\n",
    "\n",
    "    optimal = minimize(loss, [0.001, 0.001], args=(data, recovered, s_0, i_0, r_0), method='L-BFGS-B', bounds=[(0.00000001, 0.4), (0.00000001, 0.4)])\n",
    "    print(optimal)\n",
    "    beta, gamma = optimal.x\n",
    "    new_index, extended_actual, extended_recovered, prediction = predict(beta, gamma, data, recovered, s_0, i_0, r_0)\n",
    "    df = pd.DataFrame({'Actual Infected': extended_actual, 'Actual Recovered': extended_recovered, 'Susceptible': prediction.y[0], 'Predicted Infected': prediction.y[1], 'Predicted Recovered': prediction.y[2]}, index=new_index)\n",
    "    fig, ax = plt.subplots(figsize=(15, 10))\n",
    "    ax.set_title('India')\n",
    "    df.plot(ax=ax)\n",
    "    print(f\"country=India, beta={beta:.8f}, gamma={gamma:.8f}, r_0:{(beta/gamma):.8f}\")\n",
    "    fig.savefig(f\"India.png\")"
   ]
  },
  {
   "cell_type": "code",
   "execution_count": 23,
   "metadata": {
    "ExecuteTime": {
     "end_time": "2020-04-16T20:16:40.938168Z",
     "start_time": "2020-04-16T20:16:38.846759Z"
    },
    "scrolled": false
   },
   "outputs": [
    {
     "name": "stdout",
     "output_type": "stream",
     "text": [
      "      fun: 8.425135338667403\n",
      " hess_inv: <2x2 LbfgsInvHessProduct with dtype=float64>\n",
      "      jac: array([ 2.11160729e+03, -3.27688099e-02])\n",
      "  message: b'CONVERGENCE: REL_REDUCTION_OF_F_<=_FACTR*EPSMCH'\n",
      "     nfev: 171\n",
      "      nit: 18\n",
      "   status: 0\n",
      "  success: True\n",
      "        x: array([2.68678346e-05, 1.66937216e-02])\n",
      "country=India, beta=0.00002687, gamma=0.01669372, r_0:0.00160946\n"
     ]
    },
    {
     "data": {
      "image/png": "[encoded data removed]",
      "text/plain": [
       "<Figure size 1080x720 with 1 Axes>"
      ]
     },
     "metadata": {
      "needs_background": "light"
     },
     "output_type": "display_data"
    }
   ],
   "source": [
    "train(recovered, infected, data)"
   ]
  },
  {
   "cell_type": "markdown",
   "metadata": {},
   "source": [
    "### Lockdown Period"
   ]
  },
  {
   "cell_type": "code",
   "execution_count": 24,
   "metadata": {
    "ExecuteTime": {
     "end_time": "2020-04-16T20:16:40.958113Z",
     "start_time": "2020-04-16T20:16:40.941169Z"
    }
   },
   "outputs": [
    {
     "data": {
      "text/html": [
       "<div>\n",
       "<style scoped>\n",
       "    .dataframe tbody tr th:only-of-type {\n",
       "        vertical-align: middle;\n",
       "    }\n",
       "\n",
       "    .dataframe tbody tr th {\n",
       "        vertical-align: top;\n",
       "    }\n",
       "\n",
       "    .dataframe thead th {\n",
       "        text-align: right;\n",
       "    }\n",
       "</style>\n",
       "<table border=\"1\" class=\"dataframe\">\n",
       "  <thead>\n",
       "    <tr style=\"text-align: right;\">\n",
       "      <th></th>\n",
       "      <th>Date</th>\n",
       "      <th>Total Confirmed</th>\n",
       "      <th>Total Recovered</th>\n",
       "      <th>Total Deceased</th>\n",
       "      <th>Total Active Cases</th>\n",
       "    </tr>\n",
       "  </thead>\n",
       "  <tbody>\n",
       "    <tr>\n",
       "      <th>0</th>\n",
       "      <td>2020-03-27</td>\n",
       "      <td>883</td>\n",
       "      <td>75</td>\n",
       "      <td>19</td>\n",
       "      <td>789</td>\n",
       "    </tr>\n",
       "    <tr>\n",
       "      <th>1</th>\n",
       "      <td>2020-03-28</td>\n",
       "      <td>1019</td>\n",
       "      <td>85</td>\n",
       "      <td>24</td>\n",
       "      <td>910</td>\n",
       "    </tr>\n",
       "  </tbody>\n",
       "</table>\n",
       "</div>"
      ],
      "text/plain": [
       "        Date  Total Confirmed  Total Recovered  Total Deceased  \\\n",
       "0 2020-03-27              883               75              19   \n",
       "1 2020-03-28             1019               85              24   \n",
       "\n",
       "   Total Active Cases  \n",
       "0                 789  \n",
       "1                 910  "
      ]
     },
     "execution_count": 24,
     "metadata": {},
     "output_type": "execute_result"
    }
   ],
   "source": [
    "dbd_tc_param.head(2)"
   ]
  },
  {
   "cell_type": "code",
   "execution_count": 25,
   "metadata": {
    "ExecuteTime": {
     "end_time": "2020-04-16T20:16:40.984046Z",
     "start_time": "2020-04-16T20:16:40.964099Z"
    }
   },
   "outputs": [
    {
     "data": {
      "text/html": [
       "<div>\n",
       "<style scoped>\n",
       "    .dataframe tbody tr th:only-of-type {\n",
       "        vertical-align: middle;\n",
       "    }\n",
       "\n",
       "    .dataframe tbody tr th {\n",
       "        vertical-align: top;\n",
       "    }\n",
       "\n",
       "    .dataframe thead th {\n",
       "        text-align: right;\n",
       "    }\n",
       "</style>\n",
       "<table border=\"1\" class=\"dataframe\">\n",
       "  <thead>\n",
       "    <tr style=\"text-align: right;\">\n",
       "      <th></th>\n",
       "      <th>Date</th>\n",
       "      <th>Total Confirmed</th>\n",
       "      <th>Total Recovered</th>\n",
       "      <th>Total Deceased</th>\n",
       "      <th>Total Active Cases</th>\n",
       "    </tr>\n",
       "  </thead>\n",
       "  <tbody>\n",
       "    <tr>\n",
       "      <th>18</th>\n",
       "      <td>2020-04-14</td>\n",
       "      <td>11490</td>\n",
       "      <td>1365</td>\n",
       "      <td>398</td>\n",
       "      <td>9727</td>\n",
       "    </tr>\n",
       "    <tr>\n",
       "      <th>19</th>\n",
       "      <td>2020-04-15</td>\n",
       "      <td>12322</td>\n",
       "      <td>1498</td>\n",
       "      <td>423</td>\n",
       "      <td>10401</td>\n",
       "    </tr>\n",
       "  </tbody>\n",
       "</table>\n",
       "</div>"
      ],
      "text/plain": [
       "         Date  Total Confirmed  Total Recovered  Total Deceased  \\\n",
       "18 2020-04-14            11490             1365             398   \n",
       "19 2020-04-15            12322             1498             423   \n",
       "\n",
       "    Total Active Cases  \n",
       "18                9727  \n",
       "19               10401  "
      ]
     },
     "execution_count": 25,
     "metadata": {},
     "output_type": "execute_result"
    }
   ],
   "source": [
    "dbd_tc_param.tail(2)"
   ]
  },
  {
   "cell_type": "code",
   "execution_count": 26,
   "metadata": {
    "ExecuteTime": {
     "end_time": "2020-04-16T20:16:40.998018Z",
     "start_time": "2020-04-16T20:16:40.989037Z"
    },
    "scrolled": true
   },
   "outputs": [],
   "source": [
    "data = dbd_tc_param.set_index('Date')['Total Active Cases']\n",
    "infected = dbd_tc_param.set_index('Date')['Total Confirmed']\n",
    "recovered = dbd_tc_param.set_index('Date')['Total Recovered']"
   ]
  },
  {
   "cell_type": "code",
   "execution_count": 27,
   "metadata": {
    "ExecuteTime": {
     "end_time": "2020-04-16T20:16:41.022945Z",
     "start_time": "2020-04-16T20:16:41.003998Z"
    }
   },
   "outputs": [],
   "source": [
    "s_0 = 50000\n",
    "i_0 = 789\n",
    "r_0 = 75"
   ]
  },
  {
   "cell_type": "code",
   "execution_count": 28,
   "metadata": {
    "ExecuteTime": {
     "end_time": "2020-04-16T20:16:41.037909Z",
     "start_time": "2020-04-16T20:16:41.026934Z"
    }
   },
   "outputs": [],
   "source": [
    "def loss(point, data, recovered, s_0, i_0, r_0):\n",
    "    size = len(data)\n",
    "    beta, gamma = point\n",
    "    def SIR(t, y):\n",
    "        S = y[0]\n",
    "        I = y[1]\n",
    "        R = y[2]\n",
    "        return [-beta*S*I, beta*S*I-gamma*I, gamma*I]\n",
    "    solution = solve_ivp(SIR, [0, size], [s_0,i_0,r_0], t_eval=np.arange(0, size, 1), vectorized=True)\n",
    "    l1 = np.sqrt(np.mean((solution.y[1] - data)**2))\n",
    "    l2 = np.sqrt(np.mean((solution.y[2] - recovered)**2))\n",
    "    alpha = 0.1\n",
    "    return alpha * l1 + (1 - alpha) * l2"
   ]
  },
  {
   "cell_type": "code",
   "execution_count": 29,
   "metadata": {
    "ExecuteTime": {
     "end_time": "2020-04-16T20:16:41.053867Z",
     "start_time": "2020-04-16T20:16:41.043885Z"
    },
    "scrolled": true
   },
   "outputs": [],
   "source": [
    "pres_fut = np.array(list(data.index.values)+ list((np.array(pd.date_range('2020-04-16', periods=30)))))"
   ]
  },
  {
   "cell_type": "code",
   "execution_count": 30,
   "metadata": {
    "ExecuteTime": {
     "end_time": "2020-04-16T20:16:41.072813Z",
     "start_time": "2020-04-16T20:16:41.058844Z"
    }
   },
   "outputs": [],
   "source": [
    "def predict(beta, gamma, data, recovered, s_0, i_0, r_0):\n",
    "    new_index = pres_fut\n",
    "    size = len(new_index)\n",
    "    def SIR(t, y):\n",
    "        S = y[0]\n",
    "        I = y[1]\n",
    "        R = y[2]\n",
    "        return [-beta*S*I, beta*S*I-gamma*I, gamma*I]\n",
    "    extended_actual = np.concatenate((data.values, [None] * (size - len(data.values))))\n",
    "    extended_recovered = np.concatenate((recovered.values, [None] * (size - len(recovered.values))))\n",
    "    return new_index, extended_actual, extended_recovered, solve_ivp(SIR, [0, size], [s_0,i_0,r_0], t_eval=np.arange(0, size, 1))"
   ]
  },
  {
   "cell_type": "code",
   "execution_count": 31,
   "metadata": {
    "ExecuteTime": {
     "end_time": "2020-04-16T20:16:41.091766Z",
     "start_time": "2020-04-16T20:16:41.077797Z"
    }
   },
   "outputs": [],
   "source": [
    "def train(recovered, infected, data):\n",
    "    recovered = recovered\n",
    "    infected = infected\n",
    "    data = data\n",
    "\n",
    "    optimal = minimize(loss, [0.001, 0.001], args=(data, recovered, s_0, i_0, r_0), method='L-BFGS-B', bounds=[(0.000001, 0.5), (0.00000001, 0.4)])\n",
    "    print(optimal)\n",
    "    beta, gamma = optimal.x\n",
    "    new_index, extended_actual, extended_recovered, prediction = predict(beta, gamma, data, recovered, s_0, i_0, r_0)\n",
    "    df = pd.DataFrame({'Actual Infected': extended_actual, 'Actual Recovered': extended_recovered, 'Susceptible': prediction.y[0], 'Predicted Infected': prediction.y[1], 'Predicted Recovered': prediction.y[2]}, index=new_index)\n",
    "    fig, ax = plt.subplots(figsize=(15, 10))\n",
    "    ax.set_title('India')\n",
    "    df.plot(ax=ax)\n",
    "    print(f\"country=India, beta={beta:.8f}, gamma={gamma:.8f}, r_0:{(beta/gamma):.8f}\")\n",
    "    fig.savefig(f\"LD India.png\")"
   ]
  },
  {
   "cell_type": "code",
   "execution_count": 32,
   "metadata": {
    "ExecuteTime": {
     "end_time": "2020-04-16T20:17:27.697764Z",
     "start_time": "2020-04-16T20:16:41.096743Z"
    },
    "scrolled": false
   },
   "outputs": [
    {
     "name": "stdout",
     "output_type": "stream",
     "text": [
      "      fun: 74.30119848745716\n",
      " hess_inv: <2x2 LbfgsInvHessProduct with dtype=float64>\n",
      "      jac: array([-1.91016051e+03, -4.63633398e-01])\n",
      "  message: b'CONVERGENCE: REL_REDUCTION_OF_F_<=_FACTR*EPSMCH'\n",
      "     nfev: 201\n",
      "      nit: 22\n",
      "   status: 0\n",
      "  success: True\n",
      "        x: array([3.43293185e-06, 1.87067327e-02])\n",
      "country=India, beta=0.00000343, gamma=0.01870673, r_0:0.00018351\n"
     ]
    },
    {
     "data": {
      "image/png": "[encoded data removed]",
      "text/plain": [
       "<Figure size 1080x720 with 1 Axes>"
      ]
     },
     "metadata": {
      "needs_background": "light"
     },
     "output_type": "display_data"
    }
   ],
   "source": [
    "train(recovered, infected, data)"
   ]
  },
  {
   "cell_type": "markdown",
   "metadata": {},
   "source": [
    "- **Due to lockdown the Beta reduced by 85%**\n",
    "- **Recovery Rate has also improved by 2.8%**"
   ]
  },
  {
   "cell_type": "markdown",
   "metadata": {},
   "source": [
    "## State-Wise Analysis"
   ]
  },
  {
   "cell_type": "markdown",
   "metadata": {},
   "source": [
    "### Tamil Nadu"
   ]
  },
  {
   "cell_type": "code",
   "execution_count": 33,
   "metadata": {
    "ExecuteTime": {
     "end_time": "2020-04-16T20:17:31.168036Z",
     "start_time": "2020-04-16T20:17:27.700714Z"
    }
   },
   "outputs": [
    {
     "data": {
      "text/html": [
       "<div>\n",
       "<style scoped>\n",
       "    .dataframe tbody tr th:only-of-type {\n",
       "        vertical-align: middle;\n",
       "    }\n",
       "\n",
       "    .dataframe tbody tr th {\n",
       "        vertical-align: top;\n",
       "    }\n",
       "\n",
       "    .dataframe thead th {\n",
       "        text-align: right;\n",
       "    }\n",
       "</style>\n",
       "<table border=\"1\" class=\"dataframe\">\n",
       "  <thead>\n",
       "    <tr style=\"text-align: right;\">\n",
       "      <th></th>\n",
       "      <th>Date</th>\n",
       "      <th>Status</th>\n",
       "      <th>TN</th>\n",
       "    </tr>\n",
       "  </thead>\n",
       "  <tbody>\n",
       "    <tr>\n",
       "      <th>0</th>\n",
       "      <td>2020-03-14</td>\n",
       "      <td>Confirmed</td>\n",
       "      <td>1</td>\n",
       "    </tr>\n",
       "    <tr>\n",
       "      <th>1</th>\n",
       "      <td>2020-03-14</td>\n",
       "      <td>Recovered</td>\n",
       "      <td>0</td>\n",
       "    </tr>\n",
       "  </tbody>\n",
       "</table>\n",
       "</div>"
      ],
      "text/plain": [
       "        Date     Status  TN\n",
       "0 2020-03-14  Confirmed   1\n",
       "1 2020-03-14  Recovered   0"
      ]
     },
     "execution_count": 33,
     "metadata": {},
     "output_type": "execute_result"
    }
   ],
   "source": [
    "dbd_tc_tamilnadu = pd.read_excel('COVID19 India Complete Dataset April 2020.xlsx', sheet_name='Date-Wise growth in each State')\n",
    "dbd_tc_tamilnadu = dbd_tc_tamilnadu[['Date', 'Status', \"TN\"]]\n",
    "dbd_tc_tamilnadu.head(2)"
   ]
  },
  {
   "cell_type": "code",
   "execution_count": 34,
   "metadata": {
    "ExecuteTime": {
     "end_time": "2020-04-16T20:17:31.181970Z",
     "start_time": "2020-04-16T20:17:31.170991Z"
    }
   },
   "outputs": [],
   "source": [
    "df_tn_con = dbd_tc_tamilnadu[dbd_tc_tamilnadu['Status']=='Confirmed']\n",
    "df_tn_rec = dbd_tc_tamilnadu[dbd_tc_tamilnadu['Status']=='Recovered']\n",
    "df_tn_dec = dbd_tc_tamilnadu[dbd_tc_tamilnadu['Status']=='Deceased']\n",
    "\n",
    "df_tn_con.reset_index(drop=True, inplace=True)\n",
    "df_tn_rec.reset_index(drop=True, inplace=True)\n",
    "df_tn_dec.reset_index(drop=True, inplace=True)"
   ]
  },
  {
   "cell_type": "code",
   "execution_count": 35,
   "metadata": {
    "ExecuteTime": {
     "end_time": "2020-04-16T20:17:34.163080Z",
     "start_time": "2020-04-16T20:17:31.186956Z"
    },
    "scrolled": true
   },
   "outputs": [],
   "source": [
    "for i in range(1, len(df_tn_con)):\n",
    "    df_tn_con.loc[i, 'TN'] = df_tn_con.loc[i-1, 'TN'] + df_tn_con.loc[i, 'TN']\n",
    "    df_tn_rec.loc[i, 'TN'] = df_tn_rec.loc[i-1, 'TN'] + df_tn_rec.loc[i, 'TN']\n",
    "    df_tn_dec.loc[i, 'TN'] = df_tn_dec.loc[i-1, 'TN'] + df_tn_dec.loc[i, 'TN']"
   ]
  },
  {
   "cell_type": "code",
   "execution_count": 36,
   "metadata": {
    "ExecuteTime": {
     "end_time": "2020-04-16T20:17:34.216847Z",
     "start_time": "2020-04-16T20:17:34.166993Z"
    }
   },
   "outputs": [
    {
     "data": {
      "text/html": [
       "<div>\n",
       "<style scoped>\n",
       "    .dataframe tbody tr th:only-of-type {\n",
       "        vertical-align: middle;\n",
       "    }\n",
       "\n",
       "    .dataframe tbody tr th {\n",
       "        vertical-align: top;\n",
       "    }\n",
       "\n",
       "    .dataframe thead th {\n",
       "        text-align: right;\n",
       "    }\n",
       "</style>\n",
       "<table border=\"1\" class=\"dataframe\">\n",
       "  <thead>\n",
       "    <tr style=\"text-align: right;\">\n",
       "      <th></th>\n",
       "      <th>Date</th>\n",
       "      <th>Status</th>\n",
       "      <th>Total Confirmed</th>\n",
       "    </tr>\n",
       "  </thead>\n",
       "  <tbody>\n",
       "    <tr>\n",
       "      <th>0</th>\n",
       "      <td>2020-03-14</td>\n",
       "      <td>Confirmed</td>\n",
       "      <td>1</td>\n",
       "    </tr>\n",
       "    <tr>\n",
       "      <th>1</th>\n",
       "      <td>2020-03-15</td>\n",
       "      <td>Confirmed</td>\n",
       "      <td>1</td>\n",
       "    </tr>\n",
       "  </tbody>\n",
       "</table>\n",
       "</div>"
      ],
      "text/plain": [
       "        Date     Status  Total Confirmed\n",
       "0 2020-03-14  Confirmed                1\n",
       "1 2020-03-15  Confirmed                1"
      ]
     },
     "execution_count": 36,
     "metadata": {},
     "output_type": "execute_result"
    }
   ],
   "source": [
    "df_tn_con.rename(columns={'TN':'Total Confirmed'}, inplace=True)\n",
    "df_tn_con.head(2)"
   ]
  },
  {
   "cell_type": "code",
   "execution_count": 37,
   "metadata": {
    "ExecuteTime": {
     "end_time": "2020-04-16T20:17:34.269713Z",
     "start_time": "2020-04-16T20:17:34.219839Z"
    }
   },
   "outputs": [
    {
     "data": {
      "text/html": [
       "<div>\n",
       "<style scoped>\n",
       "    .dataframe tbody tr th:only-of-type {\n",
       "        vertical-align: middle;\n",
       "    }\n",
       "\n",
       "    .dataframe tbody tr th {\n",
       "        vertical-align: top;\n",
       "    }\n",
       "\n",
       "    .dataframe thead th {\n",
       "        text-align: right;\n",
       "    }\n",
       "</style>\n",
       "<table border=\"1\" class=\"dataframe\">\n",
       "  <thead>\n",
       "    <tr style=\"text-align: right;\">\n",
       "      <th></th>\n",
       "      <th>Date</th>\n",
       "      <th>Status</th>\n",
       "      <th>Total Recovered</th>\n",
       "    </tr>\n",
       "  </thead>\n",
       "  <tbody>\n",
       "    <tr>\n",
       "      <th>0</th>\n",
       "      <td>2020-03-14</td>\n",
       "      <td>Recovered</td>\n",
       "      <td>0</td>\n",
       "    </tr>\n",
       "    <tr>\n",
       "      <th>1</th>\n",
       "      <td>2020-03-15</td>\n",
       "      <td>Recovered</td>\n",
       "      <td>0</td>\n",
       "    </tr>\n",
       "  </tbody>\n",
       "</table>\n",
       "</div>"
      ],
      "text/plain": [
       "        Date     Status  Total Recovered\n",
       "0 2020-03-14  Recovered                0\n",
       "1 2020-03-15  Recovered                0"
      ]
     },
     "execution_count": 37,
     "metadata": {},
     "output_type": "execute_result"
    }
   ],
   "source": [
    "df_tn_rec.rename(columns={'TN':'Total Recovered'}, inplace=True)\n",
    "df_tn_rec.head(2)"
   ]
  },
  {
   "cell_type": "code",
   "execution_count": 38,
   "metadata": {
    "ExecuteTime": {
     "end_time": "2020-04-16T20:17:34.323576Z",
     "start_time": "2020-04-16T20:17:34.272738Z"
    }
   },
   "outputs": [
    {
     "data": {
      "text/html": [
       "<div>\n",
       "<style scoped>\n",
       "    .dataframe tbody tr th:only-of-type {\n",
       "        vertical-align: middle;\n",
       "    }\n",
       "\n",
       "    .dataframe tbody tr th {\n",
       "        vertical-align: top;\n",
       "    }\n",
       "\n",
       "    .dataframe thead th {\n",
       "        text-align: right;\n",
       "    }\n",
       "</style>\n",
       "<table border=\"1\" class=\"dataframe\">\n",
       "  <thead>\n",
       "    <tr style=\"text-align: right;\">\n",
       "      <th></th>\n",
       "      <th>Date</th>\n",
       "      <th>Status</th>\n",
       "      <th>Total Deceased</th>\n",
       "    </tr>\n",
       "  </thead>\n",
       "  <tbody>\n",
       "    <tr>\n",
       "      <th>0</th>\n",
       "      <td>2020-03-14</td>\n",
       "      <td>Deceased</td>\n",
       "      <td>0</td>\n",
       "    </tr>\n",
       "    <tr>\n",
       "      <th>1</th>\n",
       "      <td>2020-03-15</td>\n",
       "      <td>Deceased</td>\n",
       "      <td>0</td>\n",
       "    </tr>\n",
       "  </tbody>\n",
       "</table>\n",
       "</div>"
      ],
      "text/plain": [
       "        Date    Status  Total Deceased\n",
       "0 2020-03-14  Deceased               0\n",
       "1 2020-03-15  Deceased               0"
      ]
     },
     "execution_count": 38,
     "metadata": {},
     "output_type": "execute_result"
    }
   ],
   "source": [
    "df_tn_dec.rename(columns={'TN':'Total Deceased'}, inplace=True)\n",
    "df_tn_dec.head(2)"
   ]
  },
  {
   "cell_type": "code",
   "execution_count": 39,
   "metadata": {
    "ExecuteTime": {
     "end_time": "2020-04-16T20:17:34.363481Z",
     "start_time": "2020-04-16T20:17:34.327552Z"
    }
   },
   "outputs": [
    {
     "data": {
      "text/html": [
       "<div>\n",
       "<style scoped>\n",
       "    .dataframe tbody tr th:only-of-type {\n",
       "        vertical-align: middle;\n",
       "    }\n",
       "\n",
       "    .dataframe tbody tr th {\n",
       "        vertical-align: top;\n",
       "    }\n",
       "\n",
       "    .dataframe thead th {\n",
       "        text-align: right;\n",
       "    }\n",
       "</style>\n",
       "<table border=\"1\" class=\"dataframe\">\n",
       "  <thead>\n",
       "    <tr style=\"text-align: right;\">\n",
       "      <th></th>\n",
       "      <th>Date</th>\n",
       "      <th>Total Confirmed</th>\n",
       "      <th>Total Recovered</th>\n",
       "      <th>Total Deceased</th>\n",
       "      <th>Total Active Cases</th>\n",
       "    </tr>\n",
       "  </thead>\n",
       "  <tbody>\n",
       "    <tr>\n",
       "      <th>0</th>\n",
       "      <td>2020-03-14</td>\n",
       "      <td>1</td>\n",
       "      <td>0</td>\n",
       "      <td>0</td>\n",
       "      <td>1</td>\n",
       "    </tr>\n",
       "    <tr>\n",
       "      <th>1</th>\n",
       "      <td>2020-03-15</td>\n",
       "      <td>1</td>\n",
       "      <td>0</td>\n",
       "      <td>0</td>\n",
       "      <td>1</td>\n",
       "    </tr>\n",
       "  </tbody>\n",
       "</table>\n",
       "</div>"
      ],
      "text/plain": [
       "        Date  Total Confirmed  Total Recovered  Total Deceased  \\\n",
       "0 2020-03-14                1                0               0   \n",
       "1 2020-03-15                1                0               0   \n",
       "\n",
       "   Total Active Cases  \n",
       "0                   1  \n",
       "1                   1  "
      ]
     },
     "execution_count": 39,
     "metadata": {},
     "output_type": "execute_result"
    }
   ],
   "source": [
    "df_tn_total = pd.merge(df_tn_con[['Date', 'Total Confirmed']], df_tn_rec[['Date', 'Total Recovered']], on=['Date'], how='left')\n",
    "df_tn_total = pd.merge(df_tn_total, df_tn_dec[['Date', 'Total Deceased']], on=['Date'], how='left')\n",
    "df_tn_total['Total Active Cases'] = df_tn_total['Total Confirmed'] - df_tn_total['Total Recovered'] -\\\n",
    "                                     df_tn_total['Total Deceased']\n",
    "df_tn_total.head(2)"
   ]
  },
  {
   "cell_type": "markdown",
   "metadata": {},
   "source": [
    "#### Pre-Lockdown Period"
   ]
  },
  {
   "cell_type": "code",
   "execution_count": 40,
   "metadata": {
    "ExecuteTime": {
     "end_time": "2020-04-16T20:17:34.390379Z",
     "start_time": "2020-04-16T20:17:34.367449Z"
    },
    "scrolled": true
   },
   "outputs": [],
   "source": [
    "data = df_tn_total[(df_tn_total['Date']) < '2020-03-27'].set_index('Date')['Total Active Cases']\n",
    "infected = df_tn_total[(df_tn_total['Date']) < '2020-03-27'].set_index('Date')['Total Confirmed']\n",
    "recovered = df_tn_total[(df_tn_total['Date']) < '2020-03-27'].set_index('Date')['Total Recovered']"
   ]
  },
  {
   "cell_type": "code",
   "execution_count": 41,
   "metadata": {
    "ExecuteTime": {
     "end_time": "2020-04-16T20:17:34.400367Z",
     "start_time": "2020-04-16T20:17:34.394380Z"
    }
   },
   "outputs": [],
   "source": [
    "s_0 = 2000\n",
    "i_0 = 1\n",
    "r_0 = 0"
   ]
  },
  {
   "cell_type": "code",
   "execution_count": 42,
   "metadata": {
    "ExecuteTime": {
     "end_time": "2020-04-16T20:17:34.420318Z",
     "start_time": "2020-04-16T20:17:34.405353Z"
    }
   },
   "outputs": [],
   "source": [
    "def loss(point, data, recovered, s_0, i_0, r_0):\n",
    "    size = len(data)\n",
    "    beta, gamma = point\n",
    "    def SIR(t, y):\n",
    "        S = y[0]\n",
    "        I = y[1]\n",
    "        R = y[2]\n",
    "        return [-beta*S*I, beta*S*I-gamma*I, gamma*I]\n",
    "    solution = solve_ivp(SIR, [0, size], [s_0,i_0,r_0], t_eval=np.arange(0, size, 1), vectorized=True)\n",
    "    l1 = np.sqrt(np.mean((solution.y[1] - data)**2))\n",
    "    l2 = np.sqrt(np.mean((solution.y[2] - recovered)**2))\n",
    "    alpha = 0.1\n",
    "    return alpha * l1 + (1 - alpha) * l2"
   ]
  },
  {
   "cell_type": "code",
   "execution_count": 43,
   "metadata": {
    "ExecuteTime": {
     "end_time": "2020-04-16T20:17:34.435264Z",
     "start_time": "2020-04-16T20:17:34.425307Z"
    }
   },
   "outputs": [],
   "source": [
    "def predict(beta, gamma, data, recovered, s_0, i_0, r_0):\n",
    "    new_index = list(data.index.values)\n",
    "    size = len(new_index)\n",
    "    def SIR(t, y):\n",
    "        S = y[0]\n",
    "        I = y[1]\n",
    "        R = y[2]\n",
    "        return [-beta*S*I, beta*S*I-gamma*I, gamma*I]\n",
    "    extended_actual = np.concatenate((data.values, [None] * (size - len(data.values))))\n",
    "    extended_recovered = np.concatenate((recovered.values, [None] * (size - len(recovered.values))))\n",
    "    return new_index, extended_actual, extended_recovered, solve_ivp(SIR, [0, size], [s_0,i_0,r_0], t_eval=np.arange(0, size, 1))"
   ]
  },
  {
   "cell_type": "code",
   "execution_count": 44,
   "metadata": {
    "ExecuteTime": {
     "end_time": "2020-04-16T20:17:34.455216Z",
     "start_time": "2020-04-16T20:17:34.439267Z"
    }
   },
   "outputs": [],
   "source": [
    "def train(recovered, infected, data):\n",
    "    recovered = recovered\n",
    "    infected = infected\n",
    "    data = data\n",
    "\n",
    "    optimal = minimize(loss, [0.001, 0.001], args=(data, recovered, s_0, i_0, r_0), method='L-BFGS-B', bounds=[(0.00000001, 0.4), (0.00000001, 0.4)])\n",
    "    print(optimal)\n",
    "    beta, gamma = optimal.x\n",
    "    new_index, extended_actual, extended_recovered, prediction = predict(beta, gamma, data, recovered, s_0, i_0, r_0)\n",
    "    df = pd.DataFrame({'Actual Infected': extended_actual, 'Actual Recovered': extended_recovered, 'Susceptible': prediction.y[0], 'Predicted Infected': prediction.y[1], 'Predicted Recovered': prediction.y[2]}, index=new_index)\n",
    "    fig, ax = plt.subplots(figsize=(15, 10))\n",
    "    ax.set_title('India')\n",
    "    df.plot(ax=ax)\n",
    "    print(f\"country=India, beta={beta:.8f}, gamma={gamma:.8f}, r_0:{(beta/gamma):.8f}\")\n",
    "    fig.savefig(f\"Tamil Nadu.png\")"
   ]
  },
  {
   "cell_type": "code",
   "execution_count": 45,
   "metadata": {
    "ExecuteTime": {
     "end_time": "2020-04-16T20:17:35.395699Z",
     "start_time": "2020-04-16T20:17:34.459217Z"
    },
    "scrolled": false
   },
   "outputs": [
    {
     "name": "stdout",
     "output_type": "stream",
     "text": [
      "      fun: 0.7380174195095646\n",
      " hess_inv: <2x2 LbfgsInvHessProduct with dtype=float64>\n",
      "      jac: array([ 7.97140132e-05, -4.44089210e-08])\n",
      "  message: b'CONVERGENCE: REL_REDUCTION_OF_F_<=_FACTR*EPSMCH'\n",
      "     nfev: 87\n",
      "      nit: 21\n",
      "   status: 0\n",
      "  success: True\n",
      "        x: array([0.00014701, 0.01711651])\n",
      "country=India, beta=0.00014701, gamma=0.01711651, r_0:0.00858855\n"
     ]
    },
    {
     "data": {
      "image/png": "[encoded data removed]",
      "text/plain": [
       "<Figure size 1080x720 with 1 Axes>"
      ]
     },
     "metadata": {
      "needs_background": "light"
     },
     "output_type": "display_data"
    }
   ],
   "source": [
    "train(recovered, infected, data)"
   ]
  },
  {
   "cell_type": "markdown",
   "metadata": {},
   "source": [
    "#### Lockdown Period"
   ]
  },
  {
   "cell_type": "code",
   "execution_count": 46,
   "metadata": {
    "ExecuteTime": {
     "end_time": "2020-04-16T20:17:35.418639Z",
     "start_time": "2020-04-16T20:17:35.400684Z"
    }
   },
   "outputs": [
    {
     "data": {
      "text/html": [
       "<div>\n",
       "<style scoped>\n",
       "    .dataframe tbody tr th:only-of-type {\n",
       "        vertical-align: middle;\n",
       "    }\n",
       "\n",
       "    .dataframe tbody tr th {\n",
       "        vertical-align: top;\n",
       "    }\n",
       "\n",
       "    .dataframe thead th {\n",
       "        text-align: right;\n",
       "    }\n",
       "</style>\n",
       "<table border=\"1\" class=\"dataframe\">\n",
       "  <thead>\n",
       "    <tr style=\"text-align: right;\">\n",
       "      <th></th>\n",
       "      <th>Date</th>\n",
       "      <th>Total Confirmed</th>\n",
       "      <th>Total Recovered</th>\n",
       "      <th>Total Deceased</th>\n",
       "      <th>Total Active Cases</th>\n",
       "    </tr>\n",
       "  </thead>\n",
       "  <tbody>\n",
       "    <tr>\n",
       "      <th>13</th>\n",
       "      <td>2020-03-27</td>\n",
       "      <td>38</td>\n",
       "      <td>2</td>\n",
       "      <td>1</td>\n",
       "      <td>35</td>\n",
       "    </tr>\n",
       "  </tbody>\n",
       "</table>\n",
       "</div>"
      ],
      "text/plain": [
       "         Date  Total Confirmed  Total Recovered  Total Deceased  \\\n",
       "13 2020-03-27               38                2               1   \n",
       "\n",
       "    Total Active Cases  \n",
       "13                  35  "
      ]
     },
     "execution_count": 46,
     "metadata": {},
     "output_type": "execute_result"
    }
   ],
   "source": [
    "df_tn_total[(df_tn_total['Date']) >= '2020-03-27'].head(1)"
   ]
  },
  {
   "cell_type": "code",
   "execution_count": 47,
   "metadata": {
    "ExecuteTime": {
     "end_time": "2020-04-16T20:17:35.444578Z",
     "start_time": "2020-04-16T20:17:35.425621Z"
    },
    "scrolled": true
   },
   "outputs": [],
   "source": [
    "data = df_tn_total[(df_tn_total['Date']) >= '2020-03-27'].set_index('Date')['Total Active Cases']\n",
    "infected = df_tn_total[(df_tn_total['Date']) >= '2020-03-27'].set_index('Date')['Total Confirmed']\n",
    "recovered = df_tn_total[(df_tn_total['Date']) >= '2020-03-27'].set_index('Date')['Total Recovered']"
   ]
  },
  {
   "cell_type": "code",
   "execution_count": 48,
   "metadata": {
    "ExecuteTime": {
     "end_time": "2020-04-16T20:17:35.455576Z",
     "start_time": "2020-04-16T20:17:35.450562Z"
    }
   },
   "outputs": [],
   "source": [
    "s_0 = 5000\n",
    "i_0 = 35\n",
    "r_0 = 2"
   ]
  },
  {
   "cell_type": "code",
   "execution_count": 49,
   "metadata": {
    "ExecuteTime": {
     "end_time": "2020-04-16T20:17:35.476525Z",
     "start_time": "2020-04-16T20:17:35.460544Z"
    }
   },
   "outputs": [],
   "source": [
    "def loss(point, data, recovered, s_0, i_0, r_0):\n",
    "    size = len(data)\n",
    "    beta, gamma = point\n",
    "    def SIR(t, y):\n",
    "        S = y[0]\n",
    "        I = y[1]\n",
    "        R = y[2]\n",
    "        return [-beta*S*I, beta*S*I-gamma*I, gamma*I]\n",
    "    solution = solve_ivp(SIR, [0, size], [s_0,i_0,r_0], t_eval=np.arange(0, size, 1), vectorized=True)\n",
    "    l1 = np.sqrt(np.mean((solution.y[1] - data)**2))\n",
    "    l2 = np.sqrt(np.mean((solution.y[2] - recovered)**2))\n",
    "    alpha = 0.1\n",
    "    return alpha * l1 + (1 - alpha) * l2"
   ]
  },
  {
   "cell_type": "code",
   "execution_count": 50,
   "metadata": {
    "ExecuteTime": {
     "end_time": "2020-04-16T20:17:35.488460Z",
     "start_time": "2020-04-16T20:17:35.480467Z"
    }
   },
   "outputs": [],
   "source": [
    "def predict(beta, gamma, data, recovered, s_0, i_0, r_0):\n",
    "    new_index = list(pres_fut)\n",
    "    size = len(new_index)\n",
    "    def SIR(t, y):\n",
    "        S = y[0]\n",
    "        I = y[1]\n",
    "        R = y[2]\n",
    "        return [-beta*S*I, beta*S*I-gamma*I, gamma*I]\n",
    "    extended_actual = np.concatenate((data.values, [None] * (size - len(data.values))))\n",
    "    extended_recovered = np.concatenate((recovered.values, [None] * (size - len(recovered.values))))\n",
    "    return new_index, extended_actual, extended_recovered, solve_ivp(SIR, [0, size], [s_0,i_0,r_0], t_eval=np.arange(0, size, 1))"
   ]
  },
  {
   "cell_type": "code",
   "execution_count": 51,
   "metadata": {
    "ExecuteTime": {
     "end_time": "2020-04-16T20:17:35.501415Z",
     "start_time": "2020-04-16T20:17:35.492437Z"
    }
   },
   "outputs": [],
   "source": [
    "def train(recovered, infected, data):\n",
    "    recovered = recovered\n",
    "    infected = infected\n",
    "    data = data\n",
    "\n",
    "    optimal = minimize(loss, [0.001, 0.001], args=(data, recovered, s_0, i_0, r_0), method='L-BFGS-B', bounds=[(0.00000001, 0.4), (0.00000001, 0.4)])\n",
    "    print(optimal)\n",
    "    beta, gamma = optimal.x\n",
    "    new_index, extended_actual, extended_recovered, prediction = predict(beta, gamma, data, recovered, s_0, i_0, r_0)\n",
    "    df = pd.DataFrame({'Actual Infected': extended_actual, 'Actual Recovered': extended_recovered, 'Susceptible': prediction.y[0], 'Predicted Infected': prediction.y[1], 'Predicted Recovered': prediction.y[2]}, index=new_index)\n",
    "    fig, ax = plt.subplots(figsize=(15, 10))\n",
    "    ax.set_title('India')\n",
    "    df.plot(ax=ax)\n",
    "    print(f\"country=Tamil Nadu, beta={beta:.8f}, gamma={gamma:.8f}, r_0:{(beta/gamma):.8f}\")\n",
    "    fig.savefig(f\"Tamil Nadu PL.png\")"
   ]
  },
  {
   "cell_type": "code",
   "execution_count": 52,
   "metadata": {
    "ExecuteTime": {
     "end_time": "2020-04-16T20:17:37.002446Z",
     "start_time": "2020-04-16T20:17:35.506437Z"
    },
    "scrolled": false
   },
   "outputs": [
    {
     "name": "stdout",
     "output_type": "stream",
     "text": [
      "      fun: 26.032722058236644\n",
      " hess_inv: <2x2 LbfgsInvHessProduct with dtype=float64>\n",
      "      jac: array([-1.18266357, -0.18762591])\n",
      "  message: b'CONVERGENCE: REL_REDUCTION_OF_F_<=_FACTR*EPSMCH'\n",
      "     nfev: 141\n",
      "      nit: 19\n",
      "   status: 0\n",
      "  success: True\n",
      "        x: array([4.58930212e-05, 1.19813650e-02])\n",
      "country=Tamil Nadu, beta=0.00004589, gamma=0.01198137, r_0:0.00383037\n"
     ]
    },
    {
     "data": {
      "image/png": "[encoded data removed]",
      "text/plain": [
       "<Figure size 1080x720 with 1 Axes>"
      ]
     },
     "metadata": {
      "needs_background": "light"
     },
     "output_type": "display_data"
    }
   ],
   "source": [
    "train(recovered, infected, data)"
   ]
  },
  {
   "cell_type": "markdown",
   "metadata": {},
   "source": [
    "### Maharashtra"
   ]
  },
  {
   "cell_type": "code",
   "execution_count": 53,
   "metadata": {
    "ExecuteTime": {
     "end_time": "2020-04-16T20:17:39.069923Z",
     "start_time": "2020-04-16T20:17:37.005433Z"
    }
   },
   "outputs": [
    {
     "data": {
      "text/html": [
       "<div>\n",
       "<style scoped>\n",
       "    .dataframe tbody tr th:only-of-type {\n",
       "        vertical-align: middle;\n",
       "    }\n",
       "\n",
       "    .dataframe tbody tr th {\n",
       "        vertical-align: top;\n",
       "    }\n",
       "\n",
       "    .dataframe thead th {\n",
       "        text-align: right;\n",
       "    }\n",
       "</style>\n",
       "<table border=\"1\" class=\"dataframe\">\n",
       "  <thead>\n",
       "    <tr style=\"text-align: right;\">\n",
       "      <th></th>\n",
       "      <th>Date</th>\n",
       "      <th>Status</th>\n",
       "      <th>MH</th>\n",
       "    </tr>\n",
       "  </thead>\n",
       "  <tbody>\n",
       "    <tr>\n",
       "      <th>0</th>\n",
       "      <td>2020-03-14</td>\n",
       "      <td>Confirmed</td>\n",
       "      <td>14</td>\n",
       "    </tr>\n",
       "    <tr>\n",
       "      <th>1</th>\n",
       "      <td>2020-03-14</td>\n",
       "      <td>Recovered</td>\n",
       "      <td>0</td>\n",
       "    </tr>\n",
       "  </tbody>\n",
       "</table>\n",
       "</div>"
      ],
      "text/plain": [
       "        Date     Status  MH\n",
       "0 2020-03-14  Confirmed  14\n",
       "1 2020-03-14  Recovered   0"
      ]
     },
     "execution_count": 53,
     "metadata": {},
     "output_type": "execute_result"
    }
   ],
   "source": [
    "dbd_tc_maharashtra = pd.read_excel('COVID19 India Complete Dataset April 2020.xlsx', sheet_name='Date-Wise growth in each State')\n",
    "dbd_tc_maharashtra = dbd_tc_maharashtra[['Date', 'Status', \"MH\"]]\n",
    "dbd_tc_maharashtra.head(2)"
   ]
  },
  {
   "cell_type": "code",
   "execution_count": 54,
   "metadata": {
    "ExecuteTime": {
     "end_time": "2020-04-16T20:17:39.085829Z",
     "start_time": "2020-04-16T20:17:39.072873Z"
    }
   },
   "outputs": [],
   "source": [
    "df_mh_con = dbd_tc_maharashtra[dbd_tc_maharashtra['Status']=='Confirmed']\n",
    "df_mh_rec = dbd_tc_maharashtra[dbd_tc_maharashtra['Status']=='Recovered']\n",
    "df_mh_dec = dbd_tc_maharashtra[dbd_tc_maharashtra['Status']=='Deceased']\n",
    "\n",
    "df_mh_con.reset_index(drop=True, inplace=True)\n",
    "df_mh_rec.reset_index(drop=True, inplace=True)\n",
    "df_mh_dec.reset_index(drop=True, inplace=True)"
   ]
  },
  {
   "cell_type": "code",
   "execution_count": 55,
   "metadata": {
    "ExecuteTime": {
     "end_time": "2020-04-16T20:17:42.109795Z",
     "start_time": "2020-04-16T20:17:39.090815Z"
    },
    "scrolled": true
   },
   "outputs": [],
   "source": [
    "for i in range(1, len(df_mh_con)):\n",
    "    df_mh_con.loc[i, 'MH'] = df_mh_con.loc[i-1, 'MH'] + df_mh_con.loc[i, 'MH']\n",
    "    df_mh_rec.loc[i, 'MH'] = df_mh_rec.loc[i-1, 'MH'] + df_mh_rec.loc[i, 'MH']\n",
    "    df_mh_dec.loc[i, 'MH'] = df_mh_dec.loc[i-1, 'MH'] + df_mh_dec.loc[i, 'MH']"
   ]
  },
  {
   "cell_type": "code",
   "execution_count": 56,
   "metadata": {
    "ExecuteTime": {
     "end_time": "2020-04-16T20:17:42.156617Z",
     "start_time": "2020-04-16T20:17:42.112735Z"
    }
   },
   "outputs": [
    {
     "data": {
      "text/html": [
       "<div>\n",
       "<style scoped>\n",
       "    .dataframe tbody tr th:only-of-type {\n",
       "        vertical-align: middle;\n",
       "    }\n",
       "\n",
       "    .dataframe tbody tr th {\n",
       "        vertical-align: top;\n",
       "    }\n",
       "\n",
       "    .dataframe thead th {\n",
       "        text-align: right;\n",
       "    }\n",
       "</style>\n",
       "<table border=\"1\" class=\"dataframe\">\n",
       "  <thead>\n",
       "    <tr style=\"text-align: right;\">\n",
       "      <th></th>\n",
       "      <th>Date</th>\n",
       "      <th>Status</th>\n",
       "      <th>Total Confirmed</th>\n",
       "    </tr>\n",
       "  </thead>\n",
       "  <tbody>\n",
       "    <tr>\n",
       "      <th>0</th>\n",
       "      <td>2020-03-14</td>\n",
       "      <td>Confirmed</td>\n",
       "      <td>14</td>\n",
       "    </tr>\n",
       "    <tr>\n",
       "      <th>1</th>\n",
       "      <td>2020-03-15</td>\n",
       "      <td>Confirmed</td>\n",
       "      <td>32</td>\n",
       "    </tr>\n",
       "  </tbody>\n",
       "</table>\n",
       "</div>"
      ],
      "text/plain": [
       "        Date     Status  Total Confirmed\n",
       "0 2020-03-14  Confirmed               14\n",
       "1 2020-03-15  Confirmed               32"
      ]
     },
     "execution_count": 56,
     "metadata": {},
     "output_type": "execute_result"
    }
   ],
   "source": [
    "df_mh_con.rename(columns={'MH':'Total Confirmed'}, inplace=True)\n",
    "df_mh_con.head(2)"
   ]
  },
  {
   "cell_type": "code",
   "execution_count": 57,
   "metadata": {
    "ExecuteTime": {
     "end_time": "2020-04-16T20:17:42.207484Z",
     "start_time": "2020-04-16T20:17:42.161608Z"
    }
   },
   "outputs": [
    {
     "data": {
      "text/html": [
       "<div>\n",
       "<style scoped>\n",
       "    .dataframe tbody tr th:only-of-type {\n",
       "        vertical-align: middle;\n",
       "    }\n",
       "\n",
       "    .dataframe tbody tr th {\n",
       "        vertical-align: top;\n",
       "    }\n",
       "\n",
       "    .dataframe thead th {\n",
       "        text-align: right;\n",
       "    }\n",
       "</style>\n",
       "<table border=\"1\" class=\"dataframe\">\n",
       "  <thead>\n",
       "    <tr style=\"text-align: right;\">\n",
       "      <th></th>\n",
       "      <th>Date</th>\n",
       "      <th>Status</th>\n",
       "      <th>Total Recovered</th>\n",
       "    </tr>\n",
       "  </thead>\n",
       "  <tbody>\n",
       "    <tr>\n",
       "      <th>0</th>\n",
       "      <td>2020-03-14</td>\n",
       "      <td>Recovered</td>\n",
       "      <td>0</td>\n",
       "    </tr>\n",
       "    <tr>\n",
       "      <th>1</th>\n",
       "      <td>2020-03-15</td>\n",
       "      <td>Recovered</td>\n",
       "      <td>0</td>\n",
       "    </tr>\n",
       "  </tbody>\n",
       "</table>\n",
       "</div>"
      ],
      "text/plain": [
       "        Date     Status  Total Recovered\n",
       "0 2020-03-14  Recovered                0\n",
       "1 2020-03-15  Recovered                0"
      ]
     },
     "execution_count": 57,
     "metadata": {},
     "output_type": "execute_result"
    }
   ],
   "source": [
    "df_mh_rec.rename(columns={'MH':'Total Recovered'}, inplace=True)\n",
    "df_mh_rec.head(2)"
   ]
  },
  {
   "cell_type": "code",
   "execution_count": 58,
   "metadata": {
    "ExecuteTime": {
     "end_time": "2020-04-16T20:17:42.258354Z",
     "start_time": "2020-04-16T20:17:42.210475Z"
    }
   },
   "outputs": [
    {
     "data": {
      "text/html": [
       "<div>\n",
       "<style scoped>\n",
       "    .dataframe tbody tr th:only-of-type {\n",
       "        vertical-align: middle;\n",
       "    }\n",
       "\n",
       "    .dataframe tbody tr th {\n",
       "        vertical-align: top;\n",
       "    }\n",
       "\n",
       "    .dataframe thead th {\n",
       "        text-align: right;\n",
       "    }\n",
       "</style>\n",
       "<table border=\"1\" class=\"dataframe\">\n",
       "  <thead>\n",
       "    <tr style=\"text-align: right;\">\n",
       "      <th></th>\n",
       "      <th>Date</th>\n",
       "      <th>Status</th>\n",
       "      <th>Total Deceased</th>\n",
       "    </tr>\n",
       "  </thead>\n",
       "  <tbody>\n",
       "    <tr>\n",
       "      <th>0</th>\n",
       "      <td>2020-03-14</td>\n",
       "      <td>Deceased</td>\n",
       "      <td>0</td>\n",
       "    </tr>\n",
       "    <tr>\n",
       "      <th>1</th>\n",
       "      <td>2020-03-15</td>\n",
       "      <td>Deceased</td>\n",
       "      <td>0</td>\n",
       "    </tr>\n",
       "  </tbody>\n",
       "</table>\n",
       "</div>"
      ],
      "text/plain": [
       "        Date    Status  Total Deceased\n",
       "0 2020-03-14  Deceased               0\n",
       "1 2020-03-15  Deceased               0"
      ]
     },
     "execution_count": 58,
     "metadata": {},
     "output_type": "execute_result"
    }
   ],
   "source": [
    "df_mh_dec.rename(columns={'MH':'Total Deceased'}, inplace=True)\n",
    "df_mh_dec.head(2)"
   ]
  },
  {
   "cell_type": "code",
   "execution_count": 59,
   "metadata": {
    "ExecuteTime": {
     "end_time": "2020-04-16T20:17:42.305228Z",
     "start_time": "2020-04-16T20:17:42.262345Z"
    }
   },
   "outputs": [
    {
     "data": {
      "text/html": [
       "<div>\n",
       "<style scoped>\n",
       "    .dataframe tbody tr th:only-of-type {\n",
       "        vertical-align: middle;\n",
       "    }\n",
       "\n",
       "    .dataframe tbody tr th {\n",
       "        vertical-align: top;\n",
       "    }\n",
       "\n",
       "    .dataframe thead th {\n",
       "        text-align: right;\n",
       "    }\n",
       "</style>\n",
       "<table border=\"1\" class=\"dataframe\">\n",
       "  <thead>\n",
       "    <tr style=\"text-align: right;\">\n",
       "      <th></th>\n",
       "      <th>Date</th>\n",
       "      <th>Total Confirmed</th>\n",
       "      <th>Total Recovered</th>\n",
       "      <th>Total Deceased</th>\n",
       "      <th>Total Active Cases</th>\n",
       "    </tr>\n",
       "  </thead>\n",
       "  <tbody>\n",
       "    <tr>\n",
       "      <th>0</th>\n",
       "      <td>2020-03-14</td>\n",
       "      <td>14</td>\n",
       "      <td>0</td>\n",
       "      <td>0</td>\n",
       "      <td>14</td>\n",
       "    </tr>\n",
       "    <tr>\n",
       "      <th>1</th>\n",
       "      <td>2020-03-15</td>\n",
       "      <td>32</td>\n",
       "      <td>0</td>\n",
       "      <td>0</td>\n",
       "      <td>32</td>\n",
       "    </tr>\n",
       "  </tbody>\n",
       "</table>\n",
       "</div>"
      ],
      "text/plain": [
       "        Date  Total Confirmed  Total Recovered  Total Deceased  \\\n",
       "0 2020-03-14               14                0               0   \n",
       "1 2020-03-15               32                0               0   \n",
       "\n",
       "   Total Active Cases  \n",
       "0                  14  \n",
       "1                  32  "
      ]
     },
     "execution_count": 59,
     "metadata": {},
     "output_type": "execute_result"
    }
   ],
   "source": [
    "df_mh_total = pd.merge(df_mh_con[['Date', 'Total Confirmed']], df_mh_rec[['Date', 'Total Recovered']], on=['Date'], how='left')\n",
    "df_mh_total = pd.merge(df_mh_total, df_mh_dec[['Date', 'Total Deceased']], on=['Date'], how='left')\n",
    "df_mh_total['Total Active Cases'] = df_mh_total['Total Confirmed'] - df_mh_total['Total Recovered'] -\\\n",
    "                                     df_mh_total['Total Deceased']\n",
    "df_mh_total.head(2)"
   ]
  },
  {
   "cell_type": "markdown",
   "metadata": {},
   "source": [
    "#### Pre-Lockdown Period"
   ]
  },
  {
   "cell_type": "code",
   "execution_count": 60,
   "metadata": {
    "ExecuteTime": {
     "end_time": "2020-04-16T20:17:42.324177Z",
     "start_time": "2020-04-16T20:17:42.309210Z"
    },
    "scrolled": true
   },
   "outputs": [],
   "source": [
    "data = df_mh_total[(df_mh_total['Date']) < '2020-03-27'].set_index('Date')['Total Active Cases']\n",
    "infected = df_mh_total[(df_mh_total['Date']) < '2020-03-27'].set_index('Date')['Total Confirmed']\n",
    "recovered = df_mh_total[(df_mh_total['Date']) < '2020-03-27'].set_index('Date')['Total Recovered']"
   ]
  },
  {
   "cell_type": "code",
   "execution_count": 61,
   "metadata": {
    "ExecuteTime": {
     "end_time": "2020-04-16T20:17:42.343123Z",
     "start_time": "2020-04-16T20:17:42.328177Z"
    }
   },
   "outputs": [],
   "source": [
    "s_0 = 5000\n",
    "i_0 = 1\n",
    "r_0 = 0"
   ]
  },
  {
   "cell_type": "code",
   "execution_count": 62,
   "metadata": {
    "ExecuteTime": {
     "end_time": "2020-04-16T20:17:42.360078Z",
     "start_time": "2020-04-16T20:17:42.348109Z"
    }
   },
   "outputs": [],
   "source": [
    "def loss(point, data, recovered, s_0, i_0, r_0):\n",
    "    size = len(data)\n",
    "    beta, gamma = point\n",
    "    def SIR(t, y):\n",
    "        S = y[0]\n",
    "        I = y[1]\n",
    "        R = y[2]\n",
    "        return [-beta*S*I, beta*S*I-gamma*I, gamma*I]\n",
    "    solution = solve_ivp(SIR, [0, size], [s_0,i_0,r_0], t_eval=np.arange(0, size, 1), vectorized=True)\n",
    "    l1 = np.sqrt(np.mean((solution.y[1] - data)**2))\n",
    "    l2 = np.sqrt(np.mean((solution.y[2] - recovered)**2))\n",
    "    alpha = 0.1\n",
    "    return alpha * l1 + (1 - alpha) * l2"
   ]
  },
  {
   "cell_type": "code",
   "execution_count": 63,
   "metadata": {
    "ExecuteTime": {
     "end_time": "2020-04-16T20:17:42.373049Z",
     "start_time": "2020-04-16T20:17:42.364064Z"
    }
   },
   "outputs": [],
   "source": [
    "def predict(beta, gamma, data, recovered, s_0, i_0, r_0):\n",
    "    new_index = list(data.index.values)\n",
    "    size = len(new_index)\n",
    "    def SIR(t, y):\n",
    "        S = y[0]\n",
    "        I = y[1]\n",
    "        R = y[2]\n",
    "        return [-beta*S*I, beta*S*I-gamma*I, gamma*I]\n",
    "    extended_actual = np.concatenate((data.values, [None] * (size - len(data.values))))\n",
    "    extended_recovered = np.concatenate((recovered.values, [None] * (size - len(recovered.values))))\n",
    "    return new_index, extended_actual, extended_recovered, solve_ivp(SIR, [0, size], [s_0,i_0,r_0], t_eval=np.arange(0, size, 1))"
   ]
  },
  {
   "cell_type": "code",
   "execution_count": 64,
   "metadata": {
    "ExecuteTime": {
     "end_time": "2020-04-16T20:17:42.390994Z",
     "start_time": "2020-04-16T20:17:42.377035Z"
    }
   },
   "outputs": [],
   "source": [
    "def train(recovered, infected, data):\n",
    "    recovered = recovered\n",
    "    infected = infected\n",
    "    data = data\n",
    "\n",
    "    optimal = minimize(loss, [0.001, 0.001], args=(data, recovered, s_0, i_0, r_0), method='L-BFGS-B', bounds=[(0.00000001, 0.4), (0.00000001, 0.4)])\n",
    "    print(optimal)\n",
    "    beta, gamma = optimal.x\n",
    "    new_index, extended_actual, extended_recovered, prediction = predict(beta, gamma, data, recovered, s_0, i_0, r_0)\n",
    "    df = pd.DataFrame({'Actual Infected': extended_actual, 'Actual Recovered': extended_recovered, 'Susceptible': prediction.y[0], 'Predicted Infected': prediction.y[1], 'Predicted Recovered': prediction.y[2]}, index=new_index)\n",
    "    fig, ax = plt.subplots(figsize=(15, 10))\n",
    "    ax.set_title('India')\n",
    "    df.plot(ax=ax)\n",
    "    print(f\"country=Maharashtra, beta={beta:.8f}, gamma={gamma:.8f}, r_0:{(beta/gamma):.8f}\")\n",
    "    fig.savefig(f\"Maharashtra.png\")"
   ]
  },
  {
   "cell_type": "code",
   "execution_count": 65,
   "metadata": {
    "ExecuteTime": {
     "end_time": "2020-04-16T20:17:43.496035Z",
     "start_time": "2020-04-16T20:17:42.393981Z"
    },
    "scrolled": false
   },
   "outputs": [
    {
     "name": "stdout",
     "output_type": "stream",
     "text": [
      "      fun: 3.7866919900278977\n",
      " hess_inv: <2x2 LbfgsInvHessProduct with dtype=float64>\n",
      "      jac: array([ 4.66722616, -0.01535434])\n",
      "  message: b'CONVERGENCE: REL_REDUCTION_OF_F_<=_FACTR*EPSMCH'\n",
      "     nfev: 108\n",
      "      nit: 9\n",
      "   status: 0\n",
      "  success: True\n",
      "        x: array([8.59569500e-05, 2.46674187e-03])\n",
      "country=Maharashtra, beta=0.00008596, gamma=0.00246674, r_0:0.03484635\n"
     ]
    },
    {
     "data": {
      "image/png": "[encoded data removed]",
      "text/plain": [
       "<Figure size 1080x720 with 1 Axes>"
      ]
     },
     "metadata": {
      "needs_background": "light"
     },
     "output_type": "display_data"
    }
   ],
   "source": [
    "train(recovered, infected, data)"
   ]
  },
  {
   "cell_type": "markdown",
   "metadata": {},
   "source": [
    "#### Lockdown Period"
   ]
  },
  {
   "cell_type": "code",
   "execution_count": 66,
   "metadata": {
    "ExecuteTime": {
     "end_time": "2020-04-16T20:17:43.519973Z",
     "start_time": "2020-04-16T20:17:43.499029Z"
    }
   },
   "outputs": [
    {
     "data": {
      "text/html": [
       "<div>\n",
       "<style scoped>\n",
       "    .dataframe tbody tr th:only-of-type {\n",
       "        vertical-align: middle;\n",
       "    }\n",
       "\n",
       "    .dataframe tbody tr th {\n",
       "        vertical-align: top;\n",
       "    }\n",
       "\n",
       "    .dataframe thead th {\n",
       "        text-align: right;\n",
       "    }\n",
       "</style>\n",
       "<table border=\"1\" class=\"dataframe\">\n",
       "  <thead>\n",
       "    <tr style=\"text-align: right;\">\n",
       "      <th></th>\n",
       "      <th>Date</th>\n",
       "      <th>Total Confirmed</th>\n",
       "      <th>Total Recovered</th>\n",
       "      <th>Total Deceased</th>\n",
       "      <th>Total Active Cases</th>\n",
       "    </tr>\n",
       "  </thead>\n",
       "  <tbody>\n",
       "    <tr>\n",
       "      <th>13</th>\n",
       "      <td>2020-03-27</td>\n",
       "      <td>156</td>\n",
       "      <td>19</td>\n",
       "      <td>4</td>\n",
       "      <td>133</td>\n",
       "    </tr>\n",
       "  </tbody>\n",
       "</table>\n",
       "</div>"
      ],
      "text/plain": [
       "         Date  Total Confirmed  Total Recovered  Total Deceased  \\\n",
       "13 2020-03-27              156               19               4   \n",
       "\n",
       "    Total Active Cases  \n",
       "13                 133  "
      ]
     },
     "execution_count": 66,
     "metadata": {},
     "output_type": "execute_result"
    }
   ],
   "source": [
    "df_mh_total[(df_mh_total['Date']) >= '2020-03-27'].head(1)"
   ]
  },
  {
   "cell_type": "code",
   "execution_count": 67,
   "metadata": {
    "ExecuteTime": {
     "end_time": "2020-04-16T20:17:43.545907Z",
     "start_time": "2020-04-16T20:17:43.524964Z"
    },
    "scrolled": true
   },
   "outputs": [],
   "source": [
    "data = df_mh_total[(df_mh_total['Date']) >= '2020-03-27'].set_index('Date')['Total Active Cases']\n",
    "infected = df_mh_total[(df_mh_total['Date']) >= '2020-03-27'].set_index('Date')['Total Confirmed']\n",
    "recovered = df_mh_total[(df_mh_total['Date']) >= '2020-03-27'].set_index('Date')['Total Recovered']"
   ]
  },
  {
   "cell_type": "code",
   "execution_count": 68,
   "metadata": {
    "ExecuteTime": {
     "end_time": "2020-04-16T20:17:43.562870Z",
     "start_time": "2020-04-16T20:17:43.549894Z"
    }
   },
   "outputs": [],
   "source": [
    "s_0 = 10000\n",
    "i_0 = 35\n",
    "r_0 = 2"
   ]
  },
  {
   "cell_type": "code",
   "execution_count": 69,
   "metadata": {
    "ExecuteTime": {
     "end_time": "2020-04-16T20:17:43.579815Z",
     "start_time": "2020-04-16T20:17:43.566889Z"
    }
   },
   "outputs": [],
   "source": [
    "def loss(point, data, recovered, s_0, i_0, r_0):\n",
    "    size = len(data)\n",
    "    beta, gamma = point\n",
    "    def SIR(t, y):\n",
    "        S = y[0]\n",
    "        I = y[1]\n",
    "        R = y[2]\n",
    "        return [-beta*S*I, beta*S*I-gamma*I, gamma*I]\n",
    "    solution = solve_ivp(SIR, [0, size], [s_0,i_0,r_0], t_eval=np.arange(0, size, 1), vectorized=True)\n",
    "    l1 = np.sqrt(np.mean((solution.y[1] - data)**2))\n",
    "    l2 = np.sqrt(np.mean((solution.y[2] - recovered)**2))\n",
    "    alpha = 0.1\n",
    "    return alpha * l1 + (1 - alpha) * l2"
   ]
  },
  {
   "cell_type": "code",
   "execution_count": 70,
   "metadata": {
    "ExecuteTime": {
     "end_time": "2020-04-16T20:17:43.595779Z",
     "start_time": "2020-04-16T20:17:43.585799Z"
    }
   },
   "outputs": [],
   "source": [
    "def predict(beta, gamma, data, recovered, s_0, i_0, r_0):\n",
    "    new_index = list(pres_fut)\n",
    "    size = len(new_index)\n",
    "    def SIR(t, y):\n",
    "        S = y[0]\n",
    "        I = y[1]\n",
    "        R = y[2]\n",
    "        return [-beta*S*I, beta*S*I-gamma*I, gamma*I]\n",
    "    extended_actual = np.concatenate((data.values, [None] * (size - len(data.values))))\n",
    "    extended_recovered = np.concatenate((recovered.values, [None] * (size - len(recovered.values))))\n",
    "    return new_index, extended_actual, extended_recovered, solve_ivp(SIR, [0, size], [s_0,i_0,r_0], t_eval=np.arange(0, size, 1))"
   ]
  },
  {
   "cell_type": "code",
   "execution_count": 71,
   "metadata": {
    "ExecuteTime": {
     "end_time": "2020-04-16T20:17:43.613750Z",
     "start_time": "2020-04-16T20:17:43.599762Z"
    }
   },
   "outputs": [],
   "source": [
    "def train(recovered, infected, data):\n",
    "    recovered = recovered\n",
    "    infected = infected\n",
    "    data = data\n",
    "\n",
    "    optimal = minimize(loss, [0.001, 0.001], args=(data, recovered, s_0, i_0, r_0), method='L-BFGS-B', bounds=[(0.00000001, 0.4), (0.00000001, 0.4)])\n",
    "    print(optimal)\n",
    "    beta, gamma = optimal.x\n",
    "    new_index, extended_actual, extended_recovered, prediction = predict(beta, gamma, data, recovered, s_0, i_0, r_0)\n",
    "    df = pd.DataFrame({'Actual Infected': extended_actual, 'Actual Recovered': extended_recovered, 'Susceptible': prediction.y[0], 'Predicted Infected': prediction.y[1], 'Predicted Recovered': prediction.y[2]}, index=new_index)\n",
    "    fig, ax = plt.subplots(figsize=(15, 10))\n",
    "    ax.set_title('India')\n",
    "    df.plot(ax=ax)\n",
    "    print(f\"country=Maharashtra, beta={beta:.8f}, gamma={gamma:.8f}, r_0:{(beta/gamma):.8f}\")\n",
    "    fig.savefig(f\"Maharashtra PL.png\")"
   ]
  },
  {
   "cell_type": "code",
   "execution_count": 72,
   "metadata": {
    "ExecuteTime": {
     "end_time": "2020-04-16T20:17:45.284295Z",
     "start_time": "2020-04-16T20:17:43.617720Z"
    },
    "scrolled": false
   },
   "outputs": [
    {
     "name": "stdout",
     "output_type": "stream",
     "text": [
      "      fun: 54.41375804278837\n",
      " hess_inv: <2x2 LbfgsInvHessProduct with dtype=float64>\n",
      "      jac: array([9.38995908e+03, 1.09218590e+00])\n",
      "  message: b'CONVERGENCE: REL_REDUCTION_OF_F_<=_FACTR*EPSMCH'\n",
      "     nfev: 153\n",
      "      nit: 15\n",
      "   status: 0\n",
      "  success: True\n",
      "        x: array([2.77014865e-05, 2.72664545e-02])\n",
      "country=Maharashtra, beta=0.00002770, gamma=0.02726645, r_0:0.00101595\n"
     ]
    },
    {
     "data": {
      "image/png": "[encoded data removed]",
      "text/plain": [
       "<Figure size 1080x720 with 1 Axes>"
      ]
     },
     "metadata": {
      "needs_background": "light"
     },
     "output_type": "display_data"
    }
   ],
   "source": [
    "train(recovered, infected, data)"
   ]
  },
  {
   "cell_type": "code",
   "execution_count": null,
   "metadata": {},
   "outputs": [],
   "source": []
  }
 ],
 "metadata": {
  "hide_input": false,
  "kernelspec": {
   "display_name": "Python 3",
   "language": "python",
   "name": "python3"
  },
  "language_info": {
   "codemirror_mode": {
    "name": "ipython",
    "version": 3
   },
   "file_extension": ".py",
   "mimetype": "text/x-python",
   "name": "python",
   "nbconvert_exporter": "python",
   "pygments_lexer": "ipython3",
   "version": "3.7.0"
  },
  "toc": {
   "base_numbering": 1,
   "nav_menu": {},
   "number_sections": true,
   "sideBar": true,
   "skip_h1_title": false,
   "title_cell": "Table of Contents",
   "title_sidebar": "Contents",
   "toc_cell": false,
   "toc_position": {
    "height": "calc(100% - 180px)",
    "left": "10px",
    "top": "150px",
    "width": "251.55px"
   },
   "toc_section_display": true,
   "toc_window_display": true
  },
  "varInspector": {
   "cols": {
    "lenName": 16,
    "lenType": 16,
    "lenVar": 40
   },
   "kernels_config": {
    "python": {
     "delete_cmd_postfix": "",
     "delete_cmd_prefix": "del ",
     "library": "var_list.py",
     "varRefreshCmd": "print(var_dic_list())"
    },
    "r": {
     "delete_cmd_postfix": ") ",
     "delete_cmd_prefix": "rm(",
     "library": "var_list.r",
     "varRefreshCmd": "cat(var_dic_list()) "
    }
   },
   "types_to_exclude": [
    "module",
    "function",
    "builtin_function_or_method",
    "instance",
    "_Feature"
   ],
   "window_display": false
  }
 },
 "nbformat": 4,
 "nbformat_minor": 2
}
